{
 "cells": [
  {
   "cell_type": "code",
   "execution_count": null,
   "id": "14489ca1",
   "metadata": {},
   "outputs": [],
   "source": [
    "#code for using OCR to extract handwritten text from an image:"
   ]
  },
  {
   "cell_type": "code",
   "execution_count": 37,
   "id": "f86cb1f1",
   "metadata": {},
   "outputs": [],
   "source": [
    "import cv2\n",
    "import numpy as np\n",
    "import pytesseract"
   ]
  },
  {
   "cell_type": "code",
   "execution_count": 38,
   "id": "fdbbcbda",
   "metadata": {},
   "outputs": [],
   "source": [
    "img = cv2.imread('D:\\mlai\\TEST_0092.jpg')"
   ]
  },
  {
   "cell_type": "code",
   "execution_count": 39,
   "id": "77655331",
   "metadata": {},
   "outputs": [
    {
     "name": "stdout",
     "output_type": "stream",
     "text": [
      "The Text is: CHANTEL OUP\n",
      "\n"
     ]
    }
   ],
   "source": [
    "text = pytesseract.image_to_string('D:\\mlai\\TEST_0092.jpg',lang='eng')\n",
    "print(\"The Text is:\", text)"
   ]
  },
  {
   "cell_type": "code",
   "execution_count": null,
   "id": "8b4f45c7",
   "metadata": {},
   "outputs": [],
   "source": [
    "#here the text is \"CHANTELOUP\".\n",
    "#OUTPUT IS \"CHANTEL OUP\""
   ]
  },
  {
   "cell_type": "code",
   "execution_count": 25,
   "id": "c25ccb53",
   "metadata": {},
   "outputs": [],
   "source": [
    "#AFTER PREPROCESSING"
   ]
  },
  {
   "cell_type": "code",
   "execution_count": 26,
   "id": "149cf56f",
   "metadata": {},
   "outputs": [],
   "source": [
    "# Preprocess the image\n",
    "gray = cv2.cvtColor(img, cv2.COLOR_BGR2GRAY)\n",
    "blur = cv2.GaussianBlur(gray, (5, 5), 0)\n",
    "thresh = cv2.adaptiveThreshold(blur, 255, cv2.ADAPTIVE_THRESH_GAUSSIAN_C, cv2.THRESH_BINARY_INV, 11, 2)\n",
    "closing = cv2.morphologyEx(thresh, cv2.MORPH_CLOSE, cv2.getStructuringElement(cv2.MORPH_RECT, (3,3)), iterations=1)"
   ]
  },
  {
   "cell_type": "code",
   "execution_count": 28,
   "id": "e8f11988",
   "metadata": {},
   "outputs": [],
   "source": [
    "# Perform OCR on the preprocessed image\n",
    "text = pytesseract.image_to_string(closing, lang='eng', config='--psm 11')"
   ]
  },
  {
   "cell_type": "code",
   "execution_count": 29,
   "id": "84e49b14",
   "metadata": {},
   "outputs": [
    {
     "name": "stdout",
     "output_type": "stream",
     "text": [
      "CMAMTELOUP\n",
      "\n"
     ]
    }
   ],
   "source": [
    "# Print the extracted text\n",
    "print(text)"
   ]
  },
  {
   "cell_type": "code",
   "execution_count": 30,
   "id": "f09d0e30",
   "metadata": {},
   "outputs": [],
   "source": [
    "#here the text is \"CHANTELOUP\".\n",
    "#OUTPUT IS \"CMAMTELOUP\""
   ]
  },
  {
   "cell_type": "code",
   "execution_count": null,
   "id": "9ca89a21",
   "metadata": {},
   "outputs": [],
   "source": []
  },
  {
   "cell_type": "code",
   "execution_count": null,
   "id": "9747fa39",
   "metadata": {},
   "outputs": [],
   "source": [
    "#ANOTHER EXAMPLE"
   ]
  },
  {
   "cell_type": "code",
   "execution_count": 31,
   "id": "212d11ca",
   "metadata": {},
   "outputs": [],
   "source": [
    "img1 = cv2.imread('D:\\mlai\\TEST_0137.jpg')"
   ]
  },
  {
   "cell_type": "code",
   "execution_count": 32,
   "id": "6f2d6c3f",
   "metadata": {},
   "outputs": [
    {
     "name": "stdout",
     "output_type": "stream",
     "text": [
      "The Text is: \n"
     ]
    }
   ],
   "source": [
    "text = pytesseract.image_to_string('D:\\mlai\\TEST_0137.jpg',lang='eng')\n",
    "print(\"The Text is:\", text)"
   ]
  },
  {
   "cell_type": "code",
   "execution_count": null,
   "id": "0d114e98",
   "metadata": {},
   "outputs": [],
   "source": [
    "#HERE THE TEXT IS \"LERiN\"\n",
    "#BUT NO OUTPUT"
   ]
  },
  {
   "cell_type": "code",
   "execution_count": null,
   "id": "efb6c9f2",
   "metadata": {},
   "outputs": [],
   "source": [
    "#AFTER PREPROCESSING"
   ]
  },
  {
   "cell_type": "code",
   "execution_count": 33,
   "id": "267fdff8",
   "metadata": {},
   "outputs": [],
   "source": [
    "# Preprocess the image\n",
    "gray = cv2.cvtColor(img1, cv2.COLOR_BGR2GRAY)\n",
    "blur = cv2.GaussianBlur(gray, (5, 5), 0)\n",
    "thresh = cv2.adaptiveThreshold(blur, 255, cv2.ADAPTIVE_THRESH_GAUSSIAN_C, cv2.THRESH_BINARY_INV, 11, 2)\n",
    "closing = cv2.morphologyEx(thresh, cv2.MORPH_CLOSE, cv2.getStructuringElement(cv2.MORPH_RECT, (3,3)), iterations=1)"
   ]
  },
  {
   "cell_type": "code",
   "execution_count": 35,
   "id": "4d3fd995",
   "metadata": {},
   "outputs": [],
   "source": [
    "# Perform OCR on the preprocessed image\n",
    "text = pytesseract.image_to_string(closing, lang='eng', config='--psm 11')"
   ]
  },
  {
   "cell_type": "code",
   "execution_count": 36,
   "id": "689c7ca9",
   "metadata": {},
   "outputs": [
    {
     "name": "stdout",
     "output_type": "stream",
     "text": [
      "CERin\n",
      "\n"
     ]
    }
   ],
   "source": [
    "# Print the extracted text\n",
    "print(text)"
   ]
  },
  {
   "cell_type": "code",
   "execution_count": null,
   "id": "e567b1b9",
   "metadata": {},
   "outputs": [],
   "source": [
    "#HERE THE TEXT IS \"LERiN\".BUT OUTPUT IS CERin"
   ]
  },
  {
   "cell_type": "code",
   "execution_count": null,
   "id": "eefe53b0",
   "metadata": {},
   "outputs": [],
   "source": [
    "#THIS METHOD IS NOT ACCURATE\n",
    "#SOMETIMES,IT DO NOT SHOW ANY OUTPUT WITHOUT PREPROCESSING\n",
    "#IT SHOWS  OUTPUT AFTER PREPROCESSING,BUT SOMETIMES IT IS NOT ACCURATE"
   ]
  }
 ],
 "metadata": {
  "kernelspec": {
   "display_name": "Python 3 (ipykernel)",
   "language": "python",
   "name": "python3"
  },
  "language_info": {
   "codemirror_mode": {
    "name": "ipython",
    "version": 3
   },
   "file_extension": ".py",
   "mimetype": "text/x-python",
   "name": "python",
   "nbconvert_exporter": "python",
   "pygments_lexer": "ipython3",
   "version": "3.8.15"
  }
 },
 "nbformat": 4,
 "nbformat_minor": 5
}
