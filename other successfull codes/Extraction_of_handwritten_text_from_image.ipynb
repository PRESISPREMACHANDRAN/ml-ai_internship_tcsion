{
  "nbformat": 4,
  "nbformat_minor": 0,
  "metadata": {
    "colab": {
      "provenance": []
    },
    "kernelspec": {
      "name": "python3",
      "display_name": "Python 3"
    }
  },
  "cells": [
    {
      "cell_type": "markdown",
      "source": [
        "1.\tImport necessary libraries such as OpenCV, Matplotlib, Pandas, NumPy, and Keras."
      ],
      "metadata": {
        "id": "gv07dHislELg"
      }
    },
    {
      "cell_type": "code",
      "metadata": {
        "id": "TG2UdQ-J7Pb_"
      },
      "source": [
        "import cv2\n",
        "import matplotlib.pyplot as plt\n",
        "import pandas as pd\n",
        "import os\n",
        "import numpy as np"
      ],
      "execution_count": 1,
      "outputs": []
    },
    {
      "cell_type": "markdown",
      "source": [
        "\n",
        "2.Mount the Google Drive to access the dataset stored in it.\n"
      ],
      "metadata": {
        "id": "pnKFPJwFVEVr"
      }
    },
    {
      "cell_type": "code",
      "metadata": {
        "id": "UtwHFlvwKQzW",
        "colab": {
          "base_uri": "https://localhost:8080/"
        },
        "outputId": "9c3d0db9-e76f-4e4b-cb4b-30761f358777"
      },
      "source": [
        "from google.colab import drive\n",
        "drive.mount('/content/drive')"
      ],
      "execution_count": 2,
      "outputs": [
        {
          "output_type": "stream",
          "name": "stdout",
          "text": [
            "Drive already mounted at /content/drive; to attempt to forcibly remount, call drive.mount(\"/content/drive\", force_remount=True).\n"
          ]
        }
      ]
    },
    {
      "cell_type": "markdown",
      "source": [
        "Reads a CSV file named handwritten_text.csv located in the handwritten_word_prediction directory of the  Google Drive. "
      ],
      "metadata": {
        "id": "-060TmbAAAlM"
      }
    },
    {
      "cell_type": "code",
      "metadata": {
        "id": "vrldxqIZKTDJ"
      },
      "source": [
        "df = pd.read_csv('/content/drive/My Drive/handwritten_word_prediction/handwritten_text.csv')"
      ],
      "execution_count": 3,
      "outputs": []
    },
    {
      "cell_type": "markdown",
      "source": [
        " display the first 5 rows of the DataFrame df using the head() function from the pandas library.\n",
        "\n",
        "By default, when no argument is passed to the head() function, it returns the first 5 rows of the DataFrame. "
      ],
      "metadata": {
        "id": "1CWoAUhzVcLf"
      }
    },
    {
      "cell_type": "code",
      "metadata": {
        "id": "jvX8ldBFK91h",
        "colab": {
          "base_uri": "https://localhost:8080/",
          "height": 206
        },
        "outputId": "bdb2c69c-be8b-4c48-f55b-c275425634a6"
      },
      "source": [
        "df.head()"
      ],
      "execution_count": 4,
      "outputs": [
        {
          "output_type": "execute_result",
          "data": {
            "text/plain": [
              "   Image        Label\n",
              "0  1.jpg      CHERPiN\n",
              "1  2.jpg    VALENTINE\n",
              "2  3.jpg  MAHENTHIRAN\n",
              "3  4.jpg      GRODZKI\n",
              "4  5.jpg        MILLE"
            ],
            "text/html": [
              "\n",
              "  <div id=\"df-4ae94a2a-e9b8-44a0-85a0-264cf27a93d2\">\n",
              "    <div class=\"colab-df-container\">\n",
              "      <div>\n",
              "<style scoped>\n",
              "    .dataframe tbody tr th:only-of-type {\n",
              "        vertical-align: middle;\n",
              "    }\n",
              "\n",
              "    .dataframe tbody tr th {\n",
              "        vertical-align: top;\n",
              "    }\n",
              "\n",
              "    .dataframe thead th {\n",
              "        text-align: right;\n",
              "    }\n",
              "</style>\n",
              "<table border=\"1\" class=\"dataframe\">\n",
              "  <thead>\n",
              "    <tr style=\"text-align: right;\">\n",
              "      <th></th>\n",
              "      <th>Image</th>\n",
              "      <th>Label</th>\n",
              "    </tr>\n",
              "  </thead>\n",
              "  <tbody>\n",
              "    <tr>\n",
              "      <th>0</th>\n",
              "      <td>1.jpg</td>\n",
              "      <td>CHERPiN</td>\n",
              "    </tr>\n",
              "    <tr>\n",
              "      <th>1</th>\n",
              "      <td>2.jpg</td>\n",
              "      <td>VALENTINE</td>\n",
              "    </tr>\n",
              "    <tr>\n",
              "      <th>2</th>\n",
              "      <td>3.jpg</td>\n",
              "      <td>MAHENTHIRAN</td>\n",
              "    </tr>\n",
              "    <tr>\n",
              "      <th>3</th>\n",
              "      <td>4.jpg</td>\n",
              "      <td>GRODZKI</td>\n",
              "    </tr>\n",
              "    <tr>\n",
              "      <th>4</th>\n",
              "      <td>5.jpg</td>\n",
              "      <td>MILLE</td>\n",
              "    </tr>\n",
              "  </tbody>\n",
              "</table>\n",
              "</div>\n",
              "      <button class=\"colab-df-convert\" onclick=\"convertToInteractive('df-4ae94a2a-e9b8-44a0-85a0-264cf27a93d2')\"\n",
              "              title=\"Convert this dataframe to an interactive table.\"\n",
              "              style=\"display:none;\">\n",
              "        \n",
              "  <svg xmlns=\"http://www.w3.org/2000/svg\" height=\"24px\"viewBox=\"0 0 24 24\"\n",
              "       width=\"24px\">\n",
              "    <path d=\"M0 0h24v24H0V0z\" fill=\"none\"/>\n",
              "    <path d=\"M18.56 5.44l.94 2.06.94-2.06 2.06-.94-2.06-.94-.94-2.06-.94 2.06-2.06.94zm-11 1L8.5 8.5l.94-2.06 2.06-.94-2.06-.94L8.5 2.5l-.94 2.06-2.06.94zm10 10l.94 2.06.94-2.06 2.06-.94-2.06-.94-.94-2.06-.94 2.06-2.06.94z\"/><path d=\"M17.41 7.96l-1.37-1.37c-.4-.4-.92-.59-1.43-.59-.52 0-1.04.2-1.43.59L10.3 9.45l-7.72 7.72c-.78.78-.78 2.05 0 2.83L4 21.41c.39.39.9.59 1.41.59.51 0 1.02-.2 1.41-.59l7.78-7.78 2.81-2.81c.8-.78.8-2.07 0-2.86zM5.41 20L4 18.59l7.72-7.72 1.47 1.35L5.41 20z\"/>\n",
              "  </svg>\n",
              "      </button>\n",
              "      \n",
              "  <style>\n",
              "    .colab-df-container {\n",
              "      display:flex;\n",
              "      flex-wrap:wrap;\n",
              "      gap: 12px;\n",
              "    }\n",
              "\n",
              "    .colab-df-convert {\n",
              "      background-color: #E8F0FE;\n",
              "      border: none;\n",
              "      border-radius: 50%;\n",
              "      cursor: pointer;\n",
              "      display: none;\n",
              "      fill: #1967D2;\n",
              "      height: 32px;\n",
              "      padding: 0 0 0 0;\n",
              "      width: 32px;\n",
              "    }\n",
              "\n",
              "    .colab-df-convert:hover {\n",
              "      background-color: #E2EBFA;\n",
              "      box-shadow: 0px 1px 2px rgba(60, 64, 67, 0.3), 0px 1px 3px 1px rgba(60, 64, 67, 0.15);\n",
              "      fill: #174EA6;\n",
              "    }\n",
              "\n",
              "    [theme=dark] .colab-df-convert {\n",
              "      background-color: #3B4455;\n",
              "      fill: #D2E3FC;\n",
              "    }\n",
              "\n",
              "    [theme=dark] .colab-df-convert:hover {\n",
              "      background-color: #434B5C;\n",
              "      box-shadow: 0px 1px 3px 1px rgba(0, 0, 0, 0.15);\n",
              "      filter: drop-shadow(0px 1px 2px rgba(0, 0, 0, 0.3));\n",
              "      fill: #FFFFFF;\n",
              "    }\n",
              "  </style>\n",
              "\n",
              "      <script>\n",
              "        const buttonEl =\n",
              "          document.querySelector('#df-4ae94a2a-e9b8-44a0-85a0-264cf27a93d2 button.colab-df-convert');\n",
              "        buttonEl.style.display =\n",
              "          google.colab.kernel.accessAllowed ? 'block' : 'none';\n",
              "\n",
              "        async function convertToInteractive(key) {\n",
              "          const element = document.querySelector('#df-4ae94a2a-e9b8-44a0-85a0-264cf27a93d2');\n",
              "          const dataTable =\n",
              "            await google.colab.kernel.invokeFunction('convertToInteractive',\n",
              "                                                     [key], {});\n",
              "          if (!dataTable) return;\n",
              "\n",
              "          const docLinkHtml = 'Like what you see? Visit the ' +\n",
              "            '<a target=\"_blank\" href=https://colab.research.google.com/notebooks/data_table.ipynb>data table notebook</a>'\n",
              "            + ' to learn more about interactive tables.';\n",
              "          element.innerHTML = '';\n",
              "          dataTable['output_type'] = 'display_data';\n",
              "          await google.colab.output.renderOutput(dataTable, element);\n",
              "          const docLink = document.createElement('div');\n",
              "          docLink.innerHTML = docLinkHtml;\n",
              "          element.appendChild(docLink);\n",
              "        }\n",
              "      </script>\n",
              "    </div>\n",
              "  </div>\n",
              "  "
            ]
          },
          "metadata": {},
          "execution_count": 4
        }
      ]
    },
    {
      "cell_type": "markdown",
      "source": [
        "This below code creates a variable named dir and assigns it the path /content/drive/My Drive/handwritten_word_prediction/dataset.\n",
        "\n",
        "This path points to a directory named dataset in the handwritten_word_prediction directory of the user's Google Drive. The dir variable can be used to easily reference this path in the code without having to type out the entire path each time it is needed."
      ],
      "metadata": {
        "id": "b749WuZPViPv"
      }
    },
    {
      "cell_type": "code",
      "metadata": {
        "id": "GNUDtGaFLD3o"
      },
      "source": [
        "dir = '/content/drive/My Drive/handwritten_word_prediction/dataset'"
      ],
      "execution_count": 5,
      "outputs": []
    },
    {
      "cell_type": "markdown",
      "source": [
        "Preprocess the dataset by resizing the images to a fixed size, converting them to grayscale, and storing them as arrays."
      ],
      "metadata": {
        "id": "tY3F0ab3BzoN"
      }
    },
    {
      "cell_type": "code",
      "metadata": {
        "id": "TK9Cj3HgK-pi"
      },
      "source": [
        "img_size_w = 50\n",
        "img_size_h = 20\n",
        "\n",
        "img_list = []\n",
        "\n",
        "for img in os.listdir(dir):\n",
        "  img_array = cv2.imread(os.path.join(dir,img), cv2.IMREAD_GRAYSCALE)\n",
        "  new_array = cv2.resize(img_array, (img_size_w,img_size_h))\n",
        "  img_list.append((img,new_array))"
      ],
      "execution_count": 6,
      "outputs": []
    },
    {
      "cell_type": "markdown",
      "source": [
        "prints the first item in the img_list list using the print() function."
      ],
      "metadata": {
        "id": "CfCwicF-CEbR"
      }
    },
    {
      "cell_type": "code",
      "metadata": {
        "id": "v-mPAmekL5G9",
        "colab": {
          "base_uri": "https://localhost:8080/"
        },
        "outputId": "798416ea-4e21-47af-8544-d4f968ec4031"
      },
      "source": [
        "\n",
        "print(img_list[0])"
      ],
      "execution_count": 7,
      "outputs": [
        {
          "output_type": "stream",
          "name": "stdout",
          "text": [
            "('1.jpg', array([[255, 255, 255, 255, 255, 255, 255, 255, 255, 255, 255, 255, 255,\n",
            "        255, 255, 255, 255, 255, 255, 255, 255, 255, 255, 255, 255, 255,\n",
            "        255, 255, 255, 255, 255, 255, 255, 255, 255, 255, 255, 255, 255,\n",
            "        255, 255, 255, 255, 255, 255, 255, 255, 255, 255, 255],\n",
            "       [255, 255, 255, 255, 255, 255, 255, 255, 255, 255, 255, 255, 255,\n",
            "        255, 255, 255, 255, 255, 255, 255, 255, 255, 255, 255, 255, 255,\n",
            "        255, 255, 255, 255, 255, 255, 255, 255, 255, 255, 255, 255, 255,\n",
            "        255, 255, 255, 255, 255, 255, 255, 255, 255, 255, 255],\n",
            "       [255, 255, 255, 255, 255, 255, 255, 255, 255, 255, 255, 255, 255,\n",
            "        255, 255, 255, 255, 255, 255, 255, 255, 255, 255, 255, 255, 255,\n",
            "        255, 255, 255, 255, 255, 255, 255, 255, 255, 255, 255, 255, 255,\n",
            "        255, 255, 255, 255, 255, 255, 255, 255, 255, 255, 255],\n",
            "       [255, 255, 255, 255, 254, 255, 255, 254, 255, 255, 255, 255, 255,\n",
            "        255, 255, 254, 255, 255, 255, 254, 255, 255, 255, 255, 255, 255,\n",
            "        255, 255, 255, 255, 255, 255, 255, 255, 255, 255, 255, 255, 255,\n",
            "        255, 255, 255, 255, 255, 255, 255, 255, 255, 255, 255],\n",
            "       [255, 255, 255, 255, 252, 252, 255, 255, 255, 255, 255, 255, 255,\n",
            "        255, 255, 254, 255, 255, 254, 254, 255, 255, 255, 255, 255, 255,\n",
            "        255, 255, 255, 255, 255, 255, 255, 255, 255, 255, 255, 255, 255,\n",
            "        255, 255, 255, 255, 255, 255, 255, 255, 255, 255, 255],\n",
            "       [255, 255, 255, 255, 251, 253, 253, 253, 253, 255, 255, 255, 255,\n",
            "        255, 255, 254, 255, 255, 253, 253, 255, 255, 255, 255, 255, 255,\n",
            "        255, 255, 255, 255, 255, 255, 255, 255, 255, 255, 255, 255, 255,\n",
            "        255, 255, 255, 255, 255, 255, 255, 255, 255, 255, 255],\n",
            "       [255, 255, 255, 255, 253, 253, 255, 254, 253, 255, 255, 255, 255,\n",
            "        255, 255, 250, 255, 255, 254, 254, 255, 255, 255, 255, 255, 255,\n",
            "        255, 255, 255, 255, 255, 255, 255, 255, 255, 255, 255, 255, 255,\n",
            "        255, 255, 255, 255, 255, 255, 255, 255, 255, 255, 255],\n",
            "       [255, 250, 254, 249,  47, 206, 253, 145, 252, 253, 254, 255, 255,\n",
            "        252, 254, 247, 255, 254, 254, 255, 255, 255, 255, 255, 255, 255,\n",
            "        255, 255, 255, 255, 255, 255, 255, 255, 255, 255, 255, 255, 255,\n",
            "        255, 255, 255, 255, 255, 255, 255, 255, 255, 255, 255],\n",
            "       [255, 253, 241, 252, 136, 179, 254, 254, 253, 255, 111, 255, 246,\n",
            "        252, 254, 254, 255, 254, 254, 253, 255, 255, 255, 255, 255, 255,\n",
            "        255, 255, 255, 255, 255, 255, 255, 255, 255, 255, 255, 255, 255,\n",
            "        255, 255, 255, 255, 255, 255, 255, 255, 255, 255, 255],\n",
            "       [255, 245, 220, 253, 176, 140, 252, 253, 254, 252, 251, 255, 184,\n",
            "         61, 252, 253, 255, 253, 216, 254, 255, 255, 255, 255, 255, 255,\n",
            "        255, 255, 255, 255, 255, 255, 255, 255, 255, 255, 255, 255, 255,\n",
            "        255, 255, 255, 255, 255, 255, 255, 255, 255, 255, 255],\n",
            "       [255, 153, 253, 254, 161,  50, 253, 253, 253, 255, 252, 255, 149,\n",
            "        253, 252, 250, 255, 253, 104, 252, 255, 255, 255, 255, 255, 255,\n",
            "        255, 255, 255, 255, 255, 255, 255, 255, 255, 255, 255, 255, 255,\n",
            "        255, 255, 255, 255, 255, 255, 255, 255, 255, 255, 255],\n",
            "       [252, 244, 254, 254, 209,  54, 252, 166, 254, 253, 121, 255, 148,\n",
            "        247, 251, 251, 255, 253, 146, 254, 255, 255, 255, 255, 255, 255,\n",
            "        255, 255, 255, 255, 255, 255, 255, 255, 255, 255, 255, 255, 255,\n",
            "        255, 255, 255, 255, 255, 255, 255, 255, 255, 255, 255],\n",
            "       [254, 254, 254, 255, 242,  92, 253, 254, 255, 249, 242, 255, 180,\n",
            "        140, 254, 253, 255, 251, 206, 248, 255, 255, 255, 255, 255, 255,\n",
            "        255, 255, 255, 255, 255, 255, 255, 255, 255, 255, 255, 255, 255,\n",
            "        255, 255, 255, 255, 255, 255, 255, 255, 255, 255, 255],\n",
            "       [254, 251, 254, 255, 250, 174, 253, 253, 252, 253, 253, 255, 158,\n",
            "        254, 253, 248, 255, 254, 249, 254, 255, 255, 255, 255, 255, 255,\n",
            "        255, 255, 255, 255, 255, 255, 255, 255, 255, 255, 255, 255, 255,\n",
            "        255, 255, 255, 255, 255, 255, 255, 255, 255, 255, 255],\n",
            "       [254, 112, 138, 253, 246, 252, 253, 112, 254, 252, 246, 255, 125,\n",
            "        254, 254, 255, 255, 253, 251, 254, 255, 255, 255, 255, 255, 255,\n",
            "        255, 255, 255, 255, 255, 255, 255, 255, 255, 255, 255, 255, 255,\n",
            "        255, 255, 255, 255, 255, 255, 255, 255, 255, 255, 255],\n",
            "       [255, 253, 252, 254, 255, 255, 253, 253, 254, 251, 254, 255, 210,\n",
            "        254, 255, 255, 255, 251, 253, 252, 255, 255, 255, 255, 255, 255,\n",
            "        255, 255, 255, 255, 255, 255, 255, 255, 255, 255, 255, 255, 255,\n",
            "        255, 255, 255, 255, 255, 255, 255, 255, 255, 255, 255],\n",
            "       [255, 253, 253, 254, 253, 255, 254, 253, 252, 254, 252, 255, 254,\n",
            "        253, 255, 255, 255, 255, 255, 254, 255, 255, 255, 255, 255, 255,\n",
            "        255, 255, 255, 255, 255, 255, 255, 255, 255, 255, 255, 255, 255,\n",
            "        255, 255, 255, 255, 255, 255, 255, 255, 255, 255, 255],\n",
            "       [255, 255, 254, 255, 252, 255, 254, 253, 254, 255, 250, 255, 253,\n",
            "        251, 255, 255, 255, 252, 255, 252, 255, 255, 255, 255, 255, 255,\n",
            "        255, 255, 255, 255, 255, 255, 255, 255, 255, 255, 255, 255, 255,\n",
            "        255, 255, 255, 255, 255, 255, 255, 255, 255, 255, 255],\n",
            "       [255, 255, 255, 255, 255, 255, 255, 255, 255, 255, 255, 255, 255,\n",
            "        255, 255, 255, 255, 255, 255, 255, 255, 255, 255, 255, 255, 255,\n",
            "        255, 255, 255, 255, 255, 255, 255, 255, 255, 255, 255, 255, 255,\n",
            "        255, 255, 255, 255, 255, 255, 255, 255, 255, 255, 255],\n",
            "       [255, 255, 255, 255, 255, 255, 255, 255, 255, 255, 255, 255, 255,\n",
            "        255, 255, 255, 255, 255, 255, 255, 255, 255, 255, 255, 255, 255,\n",
            "        255, 255, 255, 255, 255, 255, 255, 255, 255, 255, 255, 255, 255,\n",
            "        255, 255, 255, 255, 255, 255, 255, 255, 255, 255, 255]],\n",
            "      dtype=uint8))\n"
          ]
        }
      ]
    },
    {
      "cell_type": "markdown",
      "source": [
        "The below  code defines a function named get_array() that takes a filename as an argument and returns the corresponding image data from the img_list list.\n",
        "\n",
        "The function loops through each tuple in the img_list list and checks if the filename in the tuple matches the name argument. If a match is found, the function returns the image data (i.e., the second item in the tuple).\n",
        "\n",
        "If no match is found, the function will simply exit without returning anything, which means it will implicitly return None."
      ],
      "metadata": {
        "id": "q9--PmjcbJOz"
      }
    },
    {
      "cell_type": "code",
      "metadata": {
        "id": "lX-W9JnEMSYw"
      },
      "source": [
        "def get_array(name):\n",
        "  for image,array in img_list:\n",
        "    if name == image:\n",
        "      return array"
      ],
      "execution_count": 8,
      "outputs": []
    },
    {
      "cell_type": "markdown",
      "source": [
        "Adds a new column to the df DataFrame called 'Array'. "
      ],
      "metadata": {
        "id": "ESe_HxQlbSk4"
      }
    },
    {
      "cell_type": "code",
      "metadata": {
        "id": "0kJK-HVDNAs9"
      },
      "source": [
        "df['Array'] = df['Image'].apply(get_array)"
      ],
      "execution_count": 9,
      "outputs": []
    },
    {
      "cell_type": "code",
      "metadata": {
        "id": "hECg_L_mNF4_",
        "colab": {
          "base_uri": "https://localhost:8080/",
          "height": 206
        },
        "outputId": "55e687d1-1599-428e-ed6c-42c292489bbe"
      },
      "source": [
        "df.head()"
      ],
      "execution_count": 10,
      "outputs": [
        {
          "output_type": "execute_result",
          "data": {
            "text/plain": [
              "   Image        Label                                              Array\n",
              "0  1.jpg      CHERPiN  [[255, 255, 255, 255, 255, 255, 255, 255, 255,...\n",
              "1  2.jpg    VALENTINE  [[255, 255, 255, 255, 255, 255, 255, 255, 255,...\n",
              "2  3.jpg  MAHENTHIRAN  [[255, 255, 255, 254, 255, 254, 254, 255, 255,...\n",
              "3  4.jpg      GRODZKI  [[255, 255, 255, 255, 255, 255, 255, 255, 255,...\n",
              "4  5.jpg        MILLE  [[255, 255, 255, 255, 255, 255, 255, 255, 255,..."
            ],
            "text/html": [
              "\n",
              "  <div id=\"df-50057d81-c991-4607-8141-a814fc801756\">\n",
              "    <div class=\"colab-df-container\">\n",
              "      <div>\n",
              "<style scoped>\n",
              "    .dataframe tbody tr th:only-of-type {\n",
              "        vertical-align: middle;\n",
              "    }\n",
              "\n",
              "    .dataframe tbody tr th {\n",
              "        vertical-align: top;\n",
              "    }\n",
              "\n",
              "    .dataframe thead th {\n",
              "        text-align: right;\n",
              "    }\n",
              "</style>\n",
              "<table border=\"1\" class=\"dataframe\">\n",
              "  <thead>\n",
              "    <tr style=\"text-align: right;\">\n",
              "      <th></th>\n",
              "      <th>Image</th>\n",
              "      <th>Label</th>\n",
              "      <th>Array</th>\n",
              "    </tr>\n",
              "  </thead>\n",
              "  <tbody>\n",
              "    <tr>\n",
              "      <th>0</th>\n",
              "      <td>1.jpg</td>\n",
              "      <td>CHERPiN</td>\n",
              "      <td>[[255, 255, 255, 255, 255, 255, 255, 255, 255,...</td>\n",
              "    </tr>\n",
              "    <tr>\n",
              "      <th>1</th>\n",
              "      <td>2.jpg</td>\n",
              "      <td>VALENTINE</td>\n",
              "      <td>[[255, 255, 255, 255, 255, 255, 255, 255, 255,...</td>\n",
              "    </tr>\n",
              "    <tr>\n",
              "      <th>2</th>\n",
              "      <td>3.jpg</td>\n",
              "      <td>MAHENTHIRAN</td>\n",
              "      <td>[[255, 255, 255, 254, 255, 254, 254, 255, 255,...</td>\n",
              "    </tr>\n",
              "    <tr>\n",
              "      <th>3</th>\n",
              "      <td>4.jpg</td>\n",
              "      <td>GRODZKI</td>\n",
              "      <td>[[255, 255, 255, 255, 255, 255, 255, 255, 255,...</td>\n",
              "    </tr>\n",
              "    <tr>\n",
              "      <th>4</th>\n",
              "      <td>5.jpg</td>\n",
              "      <td>MILLE</td>\n",
              "      <td>[[255, 255, 255, 255, 255, 255, 255, 255, 255,...</td>\n",
              "    </tr>\n",
              "  </tbody>\n",
              "</table>\n",
              "</div>\n",
              "      <button class=\"colab-df-convert\" onclick=\"convertToInteractive('df-50057d81-c991-4607-8141-a814fc801756')\"\n",
              "              title=\"Convert this dataframe to an interactive table.\"\n",
              "              style=\"display:none;\">\n",
              "        \n",
              "  <svg xmlns=\"http://www.w3.org/2000/svg\" height=\"24px\"viewBox=\"0 0 24 24\"\n",
              "       width=\"24px\">\n",
              "    <path d=\"M0 0h24v24H0V0z\" fill=\"none\"/>\n",
              "    <path d=\"M18.56 5.44l.94 2.06.94-2.06 2.06-.94-2.06-.94-.94-2.06-.94 2.06-2.06.94zm-11 1L8.5 8.5l.94-2.06 2.06-.94-2.06-.94L8.5 2.5l-.94 2.06-2.06.94zm10 10l.94 2.06.94-2.06 2.06-.94-2.06-.94-.94-2.06-.94 2.06-2.06.94z\"/><path d=\"M17.41 7.96l-1.37-1.37c-.4-.4-.92-.59-1.43-.59-.52 0-1.04.2-1.43.59L10.3 9.45l-7.72 7.72c-.78.78-.78 2.05 0 2.83L4 21.41c.39.39.9.59 1.41.59.51 0 1.02-.2 1.41-.59l7.78-7.78 2.81-2.81c.8-.78.8-2.07 0-2.86zM5.41 20L4 18.59l7.72-7.72 1.47 1.35L5.41 20z\"/>\n",
              "  </svg>\n",
              "      </button>\n",
              "      \n",
              "  <style>\n",
              "    .colab-df-container {\n",
              "      display:flex;\n",
              "      flex-wrap:wrap;\n",
              "      gap: 12px;\n",
              "    }\n",
              "\n",
              "    .colab-df-convert {\n",
              "      background-color: #E8F0FE;\n",
              "      border: none;\n",
              "      border-radius: 50%;\n",
              "      cursor: pointer;\n",
              "      display: none;\n",
              "      fill: #1967D2;\n",
              "      height: 32px;\n",
              "      padding: 0 0 0 0;\n",
              "      width: 32px;\n",
              "    }\n",
              "\n",
              "    .colab-df-convert:hover {\n",
              "      background-color: #E2EBFA;\n",
              "      box-shadow: 0px 1px 2px rgba(60, 64, 67, 0.3), 0px 1px 3px 1px rgba(60, 64, 67, 0.15);\n",
              "      fill: #174EA6;\n",
              "    }\n",
              "\n",
              "    [theme=dark] .colab-df-convert {\n",
              "      background-color: #3B4455;\n",
              "      fill: #D2E3FC;\n",
              "    }\n",
              "\n",
              "    [theme=dark] .colab-df-convert:hover {\n",
              "      background-color: #434B5C;\n",
              "      box-shadow: 0px 1px 3px 1px rgba(0, 0, 0, 0.15);\n",
              "      filter: drop-shadow(0px 1px 2px rgba(0, 0, 0, 0.3));\n",
              "      fill: #FFFFFF;\n",
              "    }\n",
              "  </style>\n",
              "\n",
              "      <script>\n",
              "        const buttonEl =\n",
              "          document.querySelector('#df-50057d81-c991-4607-8141-a814fc801756 button.colab-df-convert');\n",
              "        buttonEl.style.display =\n",
              "          google.colab.kernel.accessAllowed ? 'block' : 'none';\n",
              "\n",
              "        async function convertToInteractive(key) {\n",
              "          const element = document.querySelector('#df-50057d81-c991-4607-8141-a814fc801756');\n",
              "          const dataTable =\n",
              "            await google.colab.kernel.invokeFunction('convertToInteractive',\n",
              "                                                     [key], {});\n",
              "          if (!dataTable) return;\n",
              "\n",
              "          const docLinkHtml = 'Like what you see? Visit the ' +\n",
              "            '<a target=\"_blank\" href=https://colab.research.google.com/notebooks/data_table.ipynb>data table notebook</a>'\n",
              "            + ' to learn more about interactive tables.';\n",
              "          element.innerHTML = '';\n",
              "          dataTable['output_type'] = 'display_data';\n",
              "          await google.colab.output.renderOutput(dataTable, element);\n",
              "          const docLink = document.createElement('div');\n",
              "          docLink.innerHTML = docLinkHtml;\n",
              "          element.appendChild(docLink);\n",
              "        }\n",
              "      </script>\n",
              "    </div>\n",
              "  </div>\n",
              "  "
            ]
          },
          "metadata": {},
          "execution_count": 10
        }
      ]
    },
    {
      "cell_type": "markdown",
      "source": [
        "imshow() function from the matplotlib.pyplot library to display an image from the img_list list.\n",
        "\n"
      ],
      "metadata": {
        "id": "OtIZyoIJc99-"
      }
    },
    {
      "cell_type": "code",
      "metadata": {
        "id": "MTKVIdxDNHSZ",
        "colab": {
          "base_uri": "https://localhost:8080/",
          "height": 199
        },
        "outputId": "b1635cd3-9093-46d0-b922-a9b15cdad18f"
      },
      "source": [
        "plt.imshow(img_list[0][1], cmap='gray')"
      ],
      "execution_count": 11,
      "outputs": [
        {
          "output_type": "execute_result",
          "data": {
            "text/plain": [
              "<matplotlib.image.AxesImage at 0x7f8c769b97f0>"
            ]
          },
          "metadata": {},
          "execution_count": 11
        },
        {
          "output_type": "display_data",
          "data": {
            "text/plain": [
              "<Figure size 432x288 with 1 Axes>"
            ],
            "image/png": "[encoded data removed]"
          },
          "metadata": {
            "needs_background": "light"
          }
        }
      ]
    },
    {
      "cell_type": "markdown",
      "source": [
        "Imports the LabelEncoder and OneHotEncoder classes from the sklearn.preprocessing module."
      ],
      "metadata": {
        "id": "LY1_ZnCrEUyl"
      }
    },
    {
      "cell_type": "code",
      "metadata": {
        "id": "B4lYoegtNOlE"
      },
      "source": [
        "from sklearn.preprocessing import LabelEncoder, OneHotEncoder"
      ],
      "execution_count": 12,
      "outputs": []
    },
    {
      "cell_type": "markdown",
      "source": [
        "creates a new column called Label_Class in the df DataFrame, and sets it to be equal to the existing Label column."
      ],
      "metadata": {
        "id": "CEKuew8JEgqZ"
      }
    },
    {
      "cell_type": "code",
      "metadata": {
        "id": "H8hFp6DGPGiM"
      },
      "source": [
        "df['Label_Class'] = df['Label']"
      ],
      "execution_count": 13,
      "outputs": []
    },
    {
      "cell_type": "markdown",
      "source": [
        "Creates a new instance of the LabelEncoder class called label_encoder, and applies it to the Label_Class column in the df DataFrame using the fit_transform() method."
      ],
      "metadata": {
        "id": "nzDliyDhErK0"
      }
    },
    {
      "cell_type": "code",
      "metadata": {
        "id": "MBhPV01eOpAc"
      },
      "source": [
        "label_encoder = LabelEncoder()\n",
        "df['Label_Class'] = label_encoder.fit_transform(df['Label_Class'])\n"
      ],
      "execution_count": 14,
      "outputs": []
    },
    {
      "cell_type": "markdown",
      "source": [
        "prints the unique classes in the Label_Class column of the df DataFrame using the classes_ attribute of the LabelEncoder instanceand assigns them to a variable called Label_classes."
      ],
      "metadata": {
        "id": "aScbNgOtFGX3"
      }
    },
    {
      "cell_type": "code",
      "metadata": {
        "id": "DYiRnyCCQiNB",
        "colab": {
          "base_uri": "https://localhost:8080/"
        },
        "outputId": "2689a725-b2c8-4dea-cc20-9b6dd1597967"
      },
      "source": [
        "print('total classes', label_encoder.classes_)\n",
        "print('total length of classes', len(label_encoder.classes_))\n",
        "output_Classes = len(label_encoder.classes_)"
      ],
      "execution_count": 15,
      "outputs": [
        {
          "output_type": "stream",
          "name": "stdout",
          "text": [
            "total classes ['ALEXANDRE' 'BARRAUD' 'CELESTINE' 'CHANTELOUP' 'CHARLES' 'CHERPiN'\n",
            " 'DE SA' 'ELIA' 'EMMA' 'GRODZKI' 'HARDY' 'JORIS' 'KEVIN' 'LADU' 'LEO'\n",
            " 'LEiLi' 'MAHENTHIRAN' 'MILLE' 'PARENT' 'PARIS' 'TASKIN' 'VALENTINE']\n",
            "total length of classes 22\n"
          ]
        }
      ]
    },
    {
      "cell_type": "code",
      "metadata": {
        "id": "TqaacS2Y9DZZ",
        "colab": {
          "base_uri": "https://localhost:8080/"
        },
        "outputId": "23ed137c-e433-4204-83c2-0ed3e727a919"
      },
      "source": [
        "Label_classes = label_encoder.classes_\n",
        "print(Label_classes)"
      ],
      "execution_count": 16,
      "outputs": [
        {
          "output_type": "stream",
          "name": "stdout",
          "text": [
            "['ALEXANDRE' 'BARRAUD' 'CELESTINE' 'CHANTELOUP' 'CHARLES' 'CHERPiN'\n",
            " 'DE SA' 'ELIA' 'EMMA' 'GRODZKI' 'HARDY' 'JORIS' 'KEVIN' 'LADU' 'LEO'\n",
            " 'LEiLi' 'MAHENTHIRAN' 'MILLE' 'PARENT' 'PARIS' 'TASKIN' 'VALENTINE']\n"
          ]
        }
      ]
    },
    {
      "cell_type": "markdown",
      "source": [
        " saves the Label_classes variable as a binary file using the pickle.dump() method."
      ],
      "metadata": {
        "id": "9soq3_pTFlXs"
      }
    },
    {
      "cell_type": "code",
      "metadata": {
        "id": "ZDJ1WyZ69KdU"
      },
      "source": [
        "import pickle\n",
        "with open('/content/drive/My Drive/handwritten_word_prediction/label_classes', 'wb') as f:\n",
        "  pickle.dump(Label_classes, f)"
      ],
      "execution_count": 17,
      "outputs": []
    },
    {
      "cell_type": "code",
      "metadata": {
        "id": "Y5eYBO8aPb8I",
        "colab": {
          "base_uri": "https://localhost:8080/",
          "height": 206
        },
        "outputId": "8bcd04b8-a578-489a-8243-3ea04f9bed25"
      },
      "source": [
        "df.head()"
      ],
      "execution_count": 18,
      "outputs": [
        {
          "output_type": "execute_result",
          "data": {
            "text/plain": [
              "   Image        Label                                              Array  \\\n",
              "0  1.jpg      CHERPiN  [[255, 255, 255, 255, 255, 255, 255, 255, 255,...   \n",
              "1  2.jpg    VALENTINE  [[255, 255, 255, 255, 255, 255, 255, 255, 255,...   \n",
              "2  3.jpg  MAHENTHIRAN  [[255, 255, 255, 254, 255, 254, 254, 255, 255,...   \n",
              "3  4.jpg      GRODZKI  [[255, 255, 255, 255, 255, 255, 255, 255, 255,...   \n",
              "4  5.jpg        MILLE  [[255, 255, 255, 255, 255, 255, 255, 255, 255,...   \n",
              "\n",
              "   Label_Class  \n",
              "0            5  \n",
              "1           21  \n",
              "2           16  \n",
              "3            9  \n",
              "4           17  "
            ],
            "text/html": [
              "\n",
              "  <div id=\"df-3b75848d-c5c9-40eb-801d-e3c193fd7a3a\">\n",
              "    <div class=\"colab-df-container\">\n",
              "      <div>\n",
              "<style scoped>\n",
              "    .dataframe tbody tr th:only-of-type {\n",
              "        vertical-align: middle;\n",
              "    }\n",
              "\n",
              "    .dataframe tbody tr th {\n",
              "        vertical-align: top;\n",
              "    }\n",
              "\n",
              "    .dataframe thead th {\n",
              "        text-align: right;\n",
              "    }\n",
              "</style>\n",
              "<table border=\"1\" class=\"dataframe\">\n",
              "  <thead>\n",
              "    <tr style=\"text-align: right;\">\n",
              "      <th></th>\n",
              "      <th>Image</th>\n",
              "      <th>Label</th>\n",
              "      <th>Array</th>\n",
              "      <th>Label_Class</th>\n",
              "    </tr>\n",
              "  </thead>\n",
              "  <tbody>\n",
              "    <tr>\n",
              "      <th>0</th>\n",
              "      <td>1.jpg</td>\n",
              "      <td>CHERPiN</td>\n",
              "      <td>[[255, 255, 255, 255, 255, 255, 255, 255, 255,...</td>\n",
              "      <td>5</td>\n",
              "    </tr>\n",
              "    <tr>\n",
              "      <th>1</th>\n",
              "      <td>2.jpg</td>\n",
              "      <td>VALENTINE</td>\n",
              "      <td>[[255, 255, 255, 255, 255, 255, 255, 255, 255,...</td>\n",
              "      <td>21</td>\n",
              "    </tr>\n",
              "    <tr>\n",
              "      <th>2</th>\n",
              "      <td>3.jpg</td>\n",
              "      <td>MAHENTHIRAN</td>\n",
              "      <td>[[255, 255, 255, 254, 255, 254, 254, 255, 255,...</td>\n",
              "      <td>16</td>\n",
              "    </tr>\n",
              "    <tr>\n",
              "      <th>3</th>\n",
              "      <td>4.jpg</td>\n",
              "      <td>GRODZKI</td>\n",
              "      <td>[[255, 255, 255, 255, 255, 255, 255, 255, 255,...</td>\n",
              "      <td>9</td>\n",
              "    </tr>\n",
              "    <tr>\n",
              "      <th>4</th>\n",
              "      <td>5.jpg</td>\n",
              "      <td>MILLE</td>\n",
              "      <td>[[255, 255, 255, 255, 255, 255, 255, 255, 255,...</td>\n",
              "      <td>17</td>\n",
              "    </tr>\n",
              "  </tbody>\n",
              "</table>\n",
              "</div>\n",
              "      <button class=\"colab-df-convert\" onclick=\"convertToInteractive('df-3b75848d-c5c9-40eb-801d-e3c193fd7a3a')\"\n",
              "              title=\"Convert this dataframe to an interactive table.\"\n",
              "              style=\"display:none;\">\n",
              "        \n",
              "  <svg xmlns=\"http://www.w3.org/2000/svg\" height=\"24px\"viewBox=\"0 0 24 24\"\n",
              "       width=\"24px\">\n",
              "    <path d=\"M0 0h24v24H0V0z\" fill=\"none\"/>\n",
              "    <path d=\"M18.56 5.44l.94 2.06.94-2.06 2.06-.94-2.06-.94-.94-2.06-.94 2.06-2.06.94zm-11 1L8.5 8.5l.94-2.06 2.06-.94-2.06-.94L8.5 2.5l-.94 2.06-2.06.94zm10 10l.94 2.06.94-2.06 2.06-.94-2.06-.94-.94-2.06-.94 2.06-2.06.94z\"/><path d=\"M17.41 7.96l-1.37-1.37c-.4-.4-.92-.59-1.43-.59-.52 0-1.04.2-1.43.59L10.3 9.45l-7.72 7.72c-.78.78-.78 2.05 0 2.83L4 21.41c.39.39.9.59 1.41.59.51 0 1.02-.2 1.41-.59l7.78-7.78 2.81-2.81c.8-.78.8-2.07 0-2.86zM5.41 20L4 18.59l7.72-7.72 1.47 1.35L5.41 20z\"/>\n",
              "  </svg>\n",
              "      </button>\n",
              "      \n",
              "  <style>\n",
              "    .colab-df-container {\n",
              "      display:flex;\n",
              "      flex-wrap:wrap;\n",
              "      gap: 12px;\n",
              "    }\n",
              "\n",
              "    .colab-df-convert {\n",
              "      background-color: #E8F0FE;\n",
              "      border: none;\n",
              "      border-radius: 50%;\n",
              "      cursor: pointer;\n",
              "      display: none;\n",
              "      fill: #1967D2;\n",
              "      height: 32px;\n",
              "      padding: 0 0 0 0;\n",
              "      width: 32px;\n",
              "    }\n",
              "\n",
              "    .colab-df-convert:hover {\n",
              "      background-color: #E2EBFA;\n",
              "      box-shadow: 0px 1px 2px rgba(60, 64, 67, 0.3), 0px 1px 3px 1px rgba(60, 64, 67, 0.15);\n",
              "      fill: #174EA6;\n",
              "    }\n",
              "\n",
              "    [theme=dark] .colab-df-convert {\n",
              "      background-color: #3B4455;\n",
              "      fill: #D2E3FC;\n",
              "    }\n",
              "\n",
              "    [theme=dark] .colab-df-convert:hover {\n",
              "      background-color: #434B5C;\n",
              "      box-shadow: 0px 1px 3px 1px rgba(0, 0, 0, 0.15);\n",
              "      filter: drop-shadow(0px 1px 2px rgba(0, 0, 0, 0.3));\n",
              "      fill: #FFFFFF;\n",
              "    }\n",
              "  </style>\n",
              "\n",
              "      <script>\n",
              "        const buttonEl =\n",
              "          document.querySelector('#df-3b75848d-c5c9-40eb-801d-e3c193fd7a3a button.colab-df-convert');\n",
              "        buttonEl.style.display =\n",
              "          google.colab.kernel.accessAllowed ? 'block' : 'none';\n",
              "\n",
              "        async function convertToInteractive(key) {\n",
              "          const element = document.querySelector('#df-3b75848d-c5c9-40eb-801d-e3c193fd7a3a');\n",
              "          const dataTable =\n",
              "            await google.colab.kernel.invokeFunction('convertToInteractive',\n",
              "                                                     [key], {});\n",
              "          if (!dataTable) return;\n",
              "\n",
              "          const docLinkHtml = 'Like what you see? Visit the ' +\n",
              "            '<a target=\"_blank\" href=https://colab.research.google.com/notebooks/data_table.ipynb>data table notebook</a>'\n",
              "            + ' to learn more about interactive tables.';\n",
              "          element.innerHTML = '';\n",
              "          dataTable['output_type'] = 'display_data';\n",
              "          await google.colab.output.renderOutput(dataTable, element);\n",
              "          const docLink = document.createElement('div');\n",
              "          docLink.innerHTML = docLinkHtml;\n",
              "          element.appendChild(docLink);\n",
              "        }\n",
              "      </script>\n",
              "    </div>\n",
              "  </div>\n",
              "  "
            ]
          },
          "metadata": {},
          "execution_count": 18
        }
      ]
    },
    {
      "cell_type": "markdown",
      "source": [
        "Applies one-hot encoding to the Label_Class column of the df DataFrame using the OneHotEncoder class from scikit-learn."
      ],
      "metadata": {
        "id": "IqKrN2u1FyDl"
      }
    },
    {
      "cell_type": "code",
      "metadata": {
        "id": "fd2ZhegnPifd"
      },
      "source": [
        "onehot = OneHotEncoder()\n",
        "labels = onehot.fit_transform(df.Label_Class.values.reshape(-1,1)).toarray()"
      ],
      "execution_count": 19,
      "outputs": []
    },
    {
      "cell_type": "code",
      "metadata": {
        "id": "02ztT95QQ79C",
        "colab": {
          "base_uri": "https://localhost:8080/"
        },
        "outputId": "8f5d278c-46ea-4893-b3b5-9aa49a0073c5"
      },
      "source": [
        "print(labels[4])"
      ],
      "execution_count": 20,
      "outputs": [
        {
          "output_type": "stream",
          "name": "stdout",
          "text": [
            "[0. 0. 0. 0. 0. 0. 0. 0. 0. 0. 0. 0. 0. 0. 0. 0. 0. 1. 0. 0. 0. 0.]\n"
          ]
        }
      ]
    },
    {
      "cell_type": "markdown",
      "source": [
        "preparing a training set for a machine learning model."
      ],
      "metadata": {
        "id": "FS4FmjrMGHoW"
      }
    },
    {
      "cell_type": "code",
      "metadata": {
        "id": "hD-uXOLCSsBS"
      },
      "source": [
        "training_set = df['Array']\n",
        "train_set = []\n",
        "for img in training_set:\n",
        "  img = img.reshape(img_size_w, img_size_h, 1)\n",
        "  train_set.append(img)\n",
        "train_set = np.array(train_set)"
      ],
      "execution_count": 21,
      "outputs": []
    },
    {
      "cell_type": "code",
      "metadata": {
        "id": "ZtHnzO_MULl8",
        "colab": {
          "base_uri": "https://localhost:8080/"
        },
        "outputId": "55ae1605-f8dd-4c5d-8b85-90825e844b95"
      },
      "source": [
        "train_set.shape"
      ],
      "execution_count": 22,
      "outputs": [
        {
          "output_type": "execute_result",
          "data": {
            "text/plain": [
              "(22, 50, 20, 1)"
            ]
          },
          "metadata": {},
          "execution_count": 22
        }
      ]
    },
    {
      "cell_type": "code",
      "metadata": {
        "id": "ZUXIDPL8TYgi"
      },
      "source": [
        "train_labels = df.Label_Class.values"
      ],
      "execution_count": 23,
      "outputs": []
    },
    {
      "cell_type": "markdown",
      "source": [
        "Imports several layers and a model class from the TensorFlow Keras API"
      ],
      "metadata": {
        "id": "ukiI9QYsG2K1"
      }
    },
    {
      "cell_type": "code",
      "metadata": {
        "id": "AcJI2ltETk_D"
      },
      "source": [
        "from tensorflow.keras.layers import Input, Conv2D, Dense, Flatten, Dropout, MaxPooling2D, BatchNormalization, GlobalMaxPooling2D\n",
        "from tensorflow.keras.models import Model"
      ],
      "execution_count": 24,
      "outputs": []
    },
    {
      "cell_type": "markdown",
      "source": [
        "ThE below code defines a Keras model using the layers and model class that were imported in the previous code snippet."
      ],
      "metadata": {
        "id": "_5axluIiHG8B"
      }
    },
    {
      "cell_type": "code",
      "metadata": {
        "id": "As8ovrUaVCOL"
      },
      "source": [
        "i = Input(shape=(img_size_w,img_size_h,1))\n",
        "x = Conv2D(32, (3,3), activation='relu', padding='same')(i)\n",
        "x = BatchNormalization()(x)\n",
        "x = Conv2D(32, (3,3), activation='relu', padding='same')(x)\n",
        "x = BatchNormalization()(x)\n",
        "x = MaxPooling2D((2,2))(x)\n",
        "x = Dropout(0.2)(x)\n",
        "\n",
        "x = Conv2D(64, (3,3), activation='relu', padding='same')(x)\n",
        "x = BatchNormalization()(x)\n",
        "x = Conv2D(64, (3,3), activation='relu', padding='same')(x)\n",
        "x = BatchNormalization()(x)\n",
        "x = MaxPooling2D((2,2))(x)\n",
        "x = Dropout(0.2)(x)\n",
        "\n",
        "x = GlobalMaxPooling2D()(x)\n",
        "\n",
        "x = Flatten()(x)\n",
        "\n",
        "x = Dropout(0.2)(x)\n",
        "x = Dense(1024, activation='relu')(x)\n",
        "x = Dropout(0.2)(x)\n",
        "x = Dense(output_Classes, activation='softmax')(x)"
      ],
      "execution_count": 25,
      "outputs": []
    },
    {
      "cell_type": "markdown",
      "source": [
        "creates a Keras model object by calling the Model class with the input layer i and output layer x that were defined earlier. "
      ],
      "metadata": {
        "id": "DxMn3oD0HZgn"
      }
    },
    {
      "cell_type": "code",
      "metadata": {
        "id": "sQxCqO3rVYfH"
      },
      "source": [
        "model = Model(i,x)"
      ],
      "execution_count": 26,
      "outputs": []
    },
    {
      "cell_type": "markdown",
      "source": [
        "\n",
        "6.Compile the model with the Adam optimizer, categorical_crossentropy as the loss function, and accuracy as the evaluation metric.\n"
      ],
      "metadata": {
        "id": "i_bQfU8YHyrY"
      }
    },
    {
      "cell_type": "code",
      "metadata": {
        "id": "Z0ySFfGTVaUv"
      },
      "source": [
        "model.compile(optimizer='adam',\n",
        "              loss = 'categorical_crossentropy',\n",
        "              metrics=['accuracy'])"
      ],
      "execution_count": 27,
      "outputs": []
    },
    {
      "cell_type": "markdown",
      "source": [
        "Train the model on the preprocessed dataset using the fit() method."
      ],
      "metadata": {
        "id": "wTLoM_q-IAKh"
      }
    },
    {
      "cell_type": "code",
      "metadata": {
        "id": "XxEnqUbOVmtt",
        "colab": {
          "base_uri": "https://localhost:8080/"
        },
        "outputId": "8216ab7c-0292-4767-d68b-957a0fee2207"
      },
      "source": [
        "r = model.fit(train_set,labels, epochs=500,batch_size=42, validation_split=0.2)"
      ],
      "execution_count": 28,
      "outputs": [
        {
          "output_type": "stream",
          "name": "stdout",
          "text": [
            "Epoch 1/500\n",
            "1/1 [==============================] - 5s 5s/step - loss: 5.6786 - accuracy: 0.0000e+00 - val_loss: 7.8727 - val_accuracy: 0.0000e+00\n",
            "Epoch 2/500\n",
            "1/1 [==============================] - 0s 187ms/step - loss: 3.9121 - accuracy: 0.1176 - val_loss: 8.2775 - val_accuracy: 0.0000e+00\n",
            "Epoch 3/500\n",
            "1/1 [==============================] - 0s 170ms/step - loss: 4.7559 - accuracy: 0.0000e+00 - val_loss: 8.8804 - val_accuracy: 0.0000e+00\n",
            "Epoch 4/500\n",
            "1/1 [==============================] - 0s 169ms/step - loss: 3.6967 - accuracy: 0.0588 - val_loss: 9.1119 - val_accuracy: 0.0000e+00\n",
            "Epoch 5/500\n",
            "1/1 [==============================] - 0s 170ms/step - loss: 3.9950 - accuracy: 0.0000e+00 - val_loss: 9.1806 - val_accuracy: 0.0000e+00\n",
            "Epoch 6/500\n",
            "1/1 [==============================] - 0s 176ms/step - loss: 3.4026 - accuracy: 0.1765 - val_loss: 9.1167 - val_accuracy: 0.0000e+00\n",
            "Epoch 7/500\n",
            "1/1 [==============================] - 0s 185ms/step - loss: 3.2628 - accuracy: 0.0588 - val_loss: 9.0393 - val_accuracy: 0.0000e+00\n",
            "Epoch 8/500\n",
            "1/1 [==============================] - 0s 169ms/step - loss: 3.5735 - accuracy: 0.0588 - val_loss: 9.0909 - val_accuracy: 0.0000e+00\n",
            "Epoch 9/500\n",
            "1/1 [==============================] - 0s 167ms/step - loss: 3.4072 - accuracy: 0.0000e+00 - val_loss: 9.0499 - val_accuracy: 0.0000e+00\n",
            "Epoch 10/500\n",
            "1/1 [==============================] - 0s 178ms/step - loss: 2.8759 - accuracy: 0.1176 - val_loss: 8.9574 - val_accuracy: 0.0000e+00\n",
            "Epoch 11/500\n",
            "1/1 [==============================] - 0s 163ms/step - loss: 2.9856 - accuracy: 0.0588 - val_loss: 8.8727 - val_accuracy: 0.0000e+00\n",
            "Epoch 12/500\n",
            "1/1 [==============================] - 0s 161ms/step - loss: 2.2130 - accuracy: 0.3529 - val_loss: 8.8006 - val_accuracy: 0.0000e+00\n",
            "Epoch 13/500\n",
            "1/1 [==============================] - 0s 151ms/step - loss: 2.8981 - accuracy: 0.1765 - val_loss: 8.8188 - val_accuracy: 0.0000e+00\n",
            "Epoch 14/500\n",
            "1/1 [==============================] - 0s 208ms/step - loss: 3.1588 - accuracy: 0.1176 - val_loss: 8.9065 - val_accuracy: 0.0000e+00\n",
            "Epoch 15/500\n",
            "1/1 [==============================] - 0s 153ms/step - loss: 2.3834 - accuracy: 0.2941 - val_loss: 9.0383 - val_accuracy: 0.0000e+00\n",
            "Epoch 16/500\n",
            "1/1 [==============================] - 0s 160ms/step - loss: 2.5528 - accuracy: 0.1765 - val_loss: 9.1795 - val_accuracy: 0.0000e+00\n",
            "Epoch 17/500\n",
            "1/1 [==============================] - 0s 152ms/step - loss: 3.1975 - accuracy: 0.0588 - val_loss: 9.2723 - val_accuracy: 0.0000e+00\n",
            "Epoch 18/500\n",
            "1/1 [==============================] - 0s 183ms/step - loss: 2.5523 - accuracy: 0.1176 - val_loss: 9.4003 - val_accuracy: 0.0000e+00\n",
            "Epoch 19/500\n",
            "1/1 [==============================] - 0s 149ms/step - loss: 2.5202 - accuracy: 0.2353 - val_loss: 9.5330 - val_accuracy: 0.0000e+00\n",
            "Epoch 20/500\n",
            "1/1 [==============================] - 0s 159ms/step - loss: 2.3284 - accuracy: 0.2941 - val_loss: 9.5527 - val_accuracy: 0.0000e+00\n",
            "Epoch 21/500\n",
            "1/1 [==============================] - 0s 158ms/step - loss: 2.4921 - accuracy: 0.1765 - val_loss: 9.5934 - val_accuracy: 0.0000e+00\n",
            "Epoch 22/500\n",
            "1/1 [==============================] - 0s 158ms/step - loss: 1.8829 - accuracy: 0.3529 - val_loss: 9.5960 - val_accuracy: 0.0000e+00\n",
            "Epoch 23/500\n",
            "1/1 [==============================] - 0s 155ms/step - loss: 2.1549 - accuracy: 0.2941 - val_loss: 9.6356 - val_accuracy: 0.0000e+00\n",
            "Epoch 24/500\n",
            "1/1 [==============================] - 0s 149ms/step - loss: 2.2623 - accuracy: 0.2941 - val_loss: 9.6480 - val_accuracy: 0.0000e+00\n",
            "Epoch 25/500\n",
            "1/1 [==============================] - 0s 170ms/step - loss: 1.7659 - accuracy: 0.5294 - val_loss: 9.6541 - val_accuracy: 0.0000e+00\n",
            "Epoch 26/500\n",
            "1/1 [==============================] - 0s 163ms/step - loss: 2.2167 - accuracy: 0.4118 - val_loss: 9.6277 - val_accuracy: 0.0000e+00\n",
            "Epoch 27/500\n",
            "1/1 [==============================] - 0s 226ms/step - loss: 1.9465 - accuracy: 0.3529 - val_loss: 9.5306 - val_accuracy: 0.0000e+00\n",
            "Epoch 28/500\n",
            "1/1 [==============================] - 0s 217ms/step - loss: 1.3270 - accuracy: 0.5882 - val_loss: 9.4812 - val_accuracy: 0.0000e+00\n",
            "Epoch 29/500\n",
            "1/1 [==============================] - 0s 262ms/step - loss: 1.7429 - accuracy: 0.5294 - val_loss: 9.4774 - val_accuracy: 0.0000e+00\n",
            "Epoch 30/500\n",
            "1/1 [==============================] - 0s 261ms/step - loss: 1.3426 - accuracy: 0.5294 - val_loss: 9.4215 - val_accuracy: 0.0000e+00\n",
            "Epoch 31/500\n",
            "1/1 [==============================] - 0s 259ms/step - loss: 1.8656 - accuracy: 0.4118 - val_loss: 9.3555 - val_accuracy: 0.0000e+00\n",
            "Epoch 32/500\n",
            "1/1 [==============================] - 0s 258ms/step - loss: 1.8861 - accuracy: 0.3529 - val_loss: 9.2816 - val_accuracy: 0.0000e+00\n",
            "Epoch 33/500\n",
            "1/1 [==============================] - 0s 274ms/step - loss: 1.6459 - accuracy: 0.4118 - val_loss: 9.2649 - val_accuracy: 0.0000e+00\n",
            "Epoch 34/500\n",
            "1/1 [==============================] - 0s 263ms/step - loss: 1.4744 - accuracy: 0.4706 - val_loss: 9.2453 - val_accuracy: 0.0000e+00\n",
            "Epoch 35/500\n",
            "1/1 [==============================] - 0s 266ms/step - loss: 1.9838 - accuracy: 0.3529 - val_loss: 9.2285 - val_accuracy: 0.0000e+00\n",
            "Epoch 36/500\n",
            "1/1 [==============================] - 0s 255ms/step - loss: 1.1136 - accuracy: 0.5294 - val_loss: 9.2001 - val_accuracy: 0.0000e+00\n",
            "Epoch 37/500\n",
            "1/1 [==============================] - 0s 282ms/step - loss: 1.1977 - accuracy: 0.6471 - val_loss: 9.1820 - val_accuracy: 0.0000e+00\n",
            "Epoch 38/500\n",
            "1/1 [==============================] - 0s 248ms/step - loss: 1.1821 - accuracy: 0.6471 - val_loss: 9.1486 - val_accuracy: 0.0000e+00\n",
            "Epoch 39/500\n",
            "1/1 [==============================] - 0s 240ms/step - loss: 0.9429 - accuracy: 0.7647 - val_loss: 9.1117 - val_accuracy: 0.0000e+00\n",
            "Epoch 40/500\n",
            "1/1 [==============================] - 0s 254ms/step - loss: 1.0756 - accuracy: 0.5294 - val_loss: 9.0272 - val_accuracy: 0.0000e+00\n",
            "Epoch 41/500\n",
            "1/1 [==============================] - 0s 288ms/step - loss: 1.5812 - accuracy: 0.5294 - val_loss: 8.8291 - val_accuracy: 0.0000e+00\n",
            "Epoch 42/500\n",
            "1/1 [==============================] - 0s 267ms/step - loss: 1.1341 - accuracy: 0.5294 - val_loss: 8.6231 - val_accuracy: 0.0000e+00\n",
            "Epoch 43/500\n",
            "1/1 [==============================] - 0s 264ms/step - loss: 1.2922 - accuracy: 0.7647 - val_loss: 8.4499 - val_accuracy: 0.0000e+00\n",
            "Epoch 44/500\n",
            "1/1 [==============================] - 0s 266ms/step - loss: 0.8628 - accuracy: 0.7059 - val_loss: 8.3123 - val_accuracy: 0.0000e+00\n",
            "Epoch 45/500\n",
            "1/1 [==============================] - 0s 160ms/step - loss: 0.6460 - accuracy: 0.7647 - val_loss: 8.1827 - val_accuracy: 0.0000e+00\n",
            "Epoch 46/500\n",
            "1/1 [==============================] - 0s 153ms/step - loss: 0.8208 - accuracy: 0.7059 - val_loss: 8.0839 - val_accuracy: 0.0000e+00\n",
            "Epoch 47/500\n",
            "1/1 [==============================] - 0s 161ms/step - loss: 1.7299 - accuracy: 0.5294 - val_loss: 8.0471 - val_accuracy: 0.0000e+00\n",
            "Epoch 48/500\n",
            "1/1 [==============================] - 0s 151ms/step - loss: 1.0032 - accuracy: 0.7059 - val_loss: 8.0175 - val_accuracy: 0.0000e+00\n",
            "Epoch 49/500\n",
            "1/1 [==============================] - 0s 162ms/step - loss: 0.4774 - accuracy: 0.8824 - val_loss: 8.0076 - val_accuracy: 0.0000e+00\n",
            "Epoch 50/500\n",
            "1/1 [==============================] - 0s 166ms/step - loss: 0.9486 - accuracy: 0.5882 - val_loss: 8.0633 - val_accuracy: 0.0000e+00\n",
            "Epoch 51/500\n",
            "1/1 [==============================] - 0s 158ms/step - loss: 0.6816 - accuracy: 0.8235 - val_loss: 8.1347 - val_accuracy: 0.0000e+00\n",
            "Epoch 52/500\n",
            "1/1 [==============================] - 0s 158ms/step - loss: 0.4835 - accuracy: 0.8824 - val_loss: 8.1680 - val_accuracy: 0.0000e+00\n",
            "Epoch 53/500\n",
            "1/1 [==============================] - 0s 163ms/step - loss: 1.0528 - accuracy: 0.7647 - val_loss: 8.0279 - val_accuracy: 0.0000e+00\n",
            "Epoch 54/500\n",
            "1/1 [==============================] - 0s 153ms/step - loss: 0.8694 - accuracy: 0.7647 - val_loss: 7.9068 - val_accuracy: 0.0000e+00\n",
            "Epoch 55/500\n",
            "1/1 [==============================] - 0s 178ms/step - loss: 0.6942 - accuracy: 0.7647 - val_loss: 7.7681 - val_accuracy: 0.0000e+00\n",
            "Epoch 56/500\n",
            "1/1 [==============================] - 0s 152ms/step - loss: 0.6999 - accuracy: 0.7647 - val_loss: 7.6408 - val_accuracy: 0.0000e+00\n",
            "Epoch 57/500\n",
            "1/1 [==============================] - 0s 173ms/step - loss: 0.7170 - accuracy: 0.7647 - val_loss: 7.5683 - val_accuracy: 0.0000e+00\n",
            "Epoch 58/500\n",
            "1/1 [==============================] - 0s 172ms/step - loss: 0.3869 - accuracy: 0.8824 - val_loss: 7.5095 - val_accuracy: 0.0000e+00\n",
            "Epoch 59/500\n",
            "1/1 [==============================] - 0s 174ms/step - loss: 0.2479 - accuracy: 1.0000 - val_loss: 7.4572 - val_accuracy: 0.0000e+00\n",
            "Epoch 60/500\n",
            "1/1 [==============================] - 0s 157ms/step - loss: 0.6575 - accuracy: 0.7647 - val_loss: 7.4505 - val_accuracy: 0.0000e+00\n",
            "Epoch 61/500\n",
            "1/1 [==============================] - 0s 149ms/step - loss: 0.5175 - accuracy: 0.8235 - val_loss: 7.4276 - val_accuracy: 0.0000e+00\n",
            "Epoch 62/500\n",
            "1/1 [==============================] - 0s 168ms/step - loss: 0.4513 - accuracy: 0.8824 - val_loss: 7.4131 - val_accuracy: 0.0000e+00\n",
            "Epoch 63/500\n",
            "1/1 [==============================] - 0s 158ms/step - loss: 0.2770 - accuracy: 1.0000 - val_loss: 7.3982 - val_accuracy: 0.0000e+00\n",
            "Epoch 64/500\n",
            "1/1 [==============================] - 0s 172ms/step - loss: 0.3137 - accuracy: 0.9412 - val_loss: 7.3789 - val_accuracy: 0.0000e+00\n",
            "Epoch 65/500\n",
            "1/1 [==============================] - 0s 149ms/step - loss: 1.1020 - accuracy: 0.7059 - val_loss: 7.3871 - val_accuracy: 0.0000e+00\n",
            "Epoch 66/500\n",
            "1/1 [==============================] - 0s 165ms/step - loss: 0.5437 - accuracy: 0.7647 - val_loss: 7.3901 - val_accuracy: 0.0000e+00\n",
            "Epoch 67/500\n",
            "1/1 [==============================] - 0s 176ms/step - loss: 0.4236 - accuracy: 0.9412 - val_loss: 7.3719 - val_accuracy: 0.0000e+00\n",
            "Epoch 68/500\n",
            "1/1 [==============================] - 0s 163ms/step - loss: 0.4889 - accuracy: 0.8824 - val_loss: 7.4413 - val_accuracy: 0.0000e+00\n",
            "Epoch 69/500\n",
            "1/1 [==============================] - 0s 154ms/step - loss: 0.3898 - accuracy: 0.8824 - val_loss: 7.5983 - val_accuracy: 0.0000e+00\n",
            "Epoch 70/500\n",
            "1/1 [==============================] - 0s 171ms/step - loss: 0.3208 - accuracy: 0.8824 - val_loss: 7.7726 - val_accuracy: 0.0000e+00\n",
            "Epoch 71/500\n",
            "1/1 [==============================] - 0s 156ms/step - loss: 0.6463 - accuracy: 0.8235 - val_loss: 7.7637 - val_accuracy: 0.0000e+00\n",
            "Epoch 72/500\n",
            "1/1 [==============================] - 0s 154ms/step - loss: 0.3889 - accuracy: 0.8235 - val_loss: 7.5856 - val_accuracy: 0.0000e+00\n",
            "Epoch 73/500\n",
            "1/1 [==============================] - 0s 155ms/step - loss: 0.8516 - accuracy: 0.8235 - val_loss: 7.3820 - val_accuracy: 0.0000e+00\n",
            "Epoch 74/500\n",
            "1/1 [==============================] - 0s 149ms/step - loss: 0.7678 - accuracy: 0.8235 - val_loss: 7.1614 - val_accuracy: 0.0000e+00\n",
            "Epoch 75/500\n",
            "1/1 [==============================] - 0s 149ms/step - loss: 0.6415 - accuracy: 0.7647 - val_loss: 6.9884 - val_accuracy: 0.0000e+00\n",
            "Epoch 76/500\n",
            "1/1 [==============================] - 0s 161ms/step - loss: 0.2860 - accuracy: 0.9412 - val_loss: 6.8926 - val_accuracy: 0.0000e+00\n",
            "Epoch 77/500\n",
            "1/1 [==============================] - 0s 153ms/step - loss: 0.0683 - accuracy: 1.0000 - val_loss: 6.8396 - val_accuracy: 0.0000e+00\n",
            "Epoch 78/500\n",
            "1/1 [==============================] - 0s 156ms/step - loss: 0.8836 - accuracy: 0.7059 - val_loss: 6.7914 - val_accuracy: 0.0000e+00\n",
            "Epoch 79/500\n",
            "1/1 [==============================] - 0s 145ms/step - loss: 0.6206 - accuracy: 0.8235 - val_loss: 6.7817 - val_accuracy: 0.0000e+00\n",
            "Epoch 80/500\n",
            "1/1 [==============================] - 0s 166ms/step - loss: 0.2824 - accuracy: 0.8824 - val_loss: 6.7898 - val_accuracy: 0.0000e+00\n",
            "Epoch 81/500\n",
            "1/1 [==============================] - 0s 153ms/step - loss: 0.3350 - accuracy: 0.8824 - val_loss: 6.8055 - val_accuracy: 0.0000e+00\n",
            "Epoch 82/500\n",
            "1/1 [==============================] - 0s 150ms/step - loss: 0.2305 - accuracy: 0.8824 - val_loss: 6.8479 - val_accuracy: 0.0000e+00\n",
            "Epoch 83/500\n",
            "1/1 [==============================] - 0s 166ms/step - loss: 0.4233 - accuracy: 0.8824 - val_loss: 6.9146 - val_accuracy: 0.0000e+00\n",
            "Epoch 84/500\n",
            "1/1 [==============================] - 0s 170ms/step - loss: 0.5066 - accuracy: 0.8235 - val_loss: 6.9732 - val_accuracy: 0.0000e+00\n",
            "Epoch 85/500\n",
            "1/1 [==============================] - 0s 159ms/step - loss: 0.6033 - accuracy: 0.8824 - val_loss: 6.9658 - val_accuracy: 0.0000e+00\n",
            "Epoch 86/500\n",
            "1/1 [==============================] - 0s 159ms/step - loss: 0.4435 - accuracy: 0.7647 - val_loss: 6.9608 - val_accuracy: 0.0000e+00\n",
            "Epoch 87/500\n",
            "1/1 [==============================] - 0s 160ms/step - loss: 0.0924 - accuracy: 1.0000 - val_loss: 6.9640 - val_accuracy: 0.0000e+00\n",
            "Epoch 88/500\n",
            "1/1 [==============================] - 0s 147ms/step - loss: 0.4305 - accuracy: 0.9412 - val_loss: 7.0146 - val_accuracy: 0.0000e+00\n",
            "Epoch 89/500\n",
            "1/1 [==============================] - 0s 170ms/step - loss: 0.1640 - accuracy: 0.9412 - val_loss: 7.0801 - val_accuracy: 0.0000e+00\n",
            "Epoch 90/500\n",
            "1/1 [==============================] - 0s 166ms/step - loss: 0.0701 - accuracy: 1.0000 - val_loss: 7.1597 - val_accuracy: 0.0000e+00\n",
            "Epoch 91/500\n",
            "1/1 [==============================] - 0s 154ms/step - loss: 0.2151 - accuracy: 1.0000 - val_loss: 7.2283 - val_accuracy: 0.0000e+00\n",
            "Epoch 92/500\n",
            "1/1 [==============================] - 0s 145ms/step - loss: 0.3685 - accuracy: 0.8824 - val_loss: 7.2660 - val_accuracy: 0.0000e+00\n",
            "Epoch 93/500\n",
            "1/1 [==============================] - 0s 175ms/step - loss: 0.3870 - accuracy: 0.8824 - val_loss: 7.2295 - val_accuracy: 0.0000e+00\n",
            "Epoch 94/500\n",
            "1/1 [==============================] - 0s 157ms/step - loss: 0.2411 - accuracy: 0.9412 - val_loss: 7.1702 - val_accuracy: 0.0000e+00\n",
            "Epoch 95/500\n",
            "1/1 [==============================] - 0s 170ms/step - loss: 0.1516 - accuracy: 0.9412 - val_loss: 7.1065 - val_accuracy: 0.0000e+00\n",
            "Epoch 96/500\n",
            "1/1 [==============================] - 0s 157ms/step - loss: 0.1358 - accuracy: 0.9412 - val_loss: 7.0348 - val_accuracy: 0.0000e+00\n",
            "Epoch 97/500\n",
            "1/1 [==============================] - 0s 158ms/step - loss: 0.2601 - accuracy: 0.8824 - val_loss: 6.9815 - val_accuracy: 0.0000e+00\n",
            "Epoch 98/500\n",
            "1/1 [==============================] - 0s 148ms/step - loss: 0.0867 - accuracy: 1.0000 - val_loss: 6.9430 - val_accuracy: 0.0000e+00\n",
            "Epoch 99/500\n",
            "1/1 [==============================] - 0s 155ms/step - loss: 0.4366 - accuracy: 0.8824 - val_loss: 6.9164 - val_accuracy: 0.0000e+00\n",
            "Epoch 100/500\n",
            "1/1 [==============================] - 0s 152ms/step - loss: 0.1730 - accuracy: 0.9412 - val_loss: 6.8763 - val_accuracy: 0.0000e+00\n",
            "Epoch 101/500\n",
            "1/1 [==============================] - 0s 151ms/step - loss: 0.4696 - accuracy: 0.8824 - val_loss: 6.8113 - val_accuracy: 0.0000e+00\n",
            "Epoch 102/500\n",
            "1/1 [==============================] - 0s 159ms/step - loss: 0.6340 - accuracy: 0.7647 - val_loss: 6.7502 - val_accuracy: 0.0000e+00\n",
            "Epoch 103/500\n",
            "1/1 [==============================] - 0s 146ms/step - loss: 0.1360 - accuracy: 1.0000 - val_loss: 6.7029 - val_accuracy: 0.0000e+00\n",
            "Epoch 104/500\n",
            "1/1 [==============================] - 0s 155ms/step - loss: 0.1713 - accuracy: 0.8824 - val_loss: 6.6552 - val_accuracy: 0.0000e+00\n",
            "Epoch 105/500\n",
            "1/1 [==============================] - 0s 194ms/step - loss: 0.3733 - accuracy: 0.8824 - val_loss: 6.5988 - val_accuracy: 0.0000e+00\n",
            "Epoch 106/500\n",
            "1/1 [==============================] - 0s 252ms/step - loss: 0.0881 - accuracy: 0.9412 - val_loss: 6.5601 - val_accuracy: 0.0000e+00\n",
            "Epoch 107/500\n",
            "1/1 [==============================] - 0s 265ms/step - loss: 0.1041 - accuracy: 0.9412 - val_loss: 6.5265 - val_accuracy: 0.0000e+00\n",
            "Epoch 108/500\n",
            "1/1 [==============================] - 0s 249ms/step - loss: 0.0416 - accuracy: 1.0000 - val_loss: 6.4973 - val_accuracy: 0.0000e+00\n",
            "Epoch 109/500\n",
            "1/1 [==============================] - 0s 245ms/step - loss: 0.4540 - accuracy: 0.8235 - val_loss: 6.4834 - val_accuracy: 0.0000e+00\n",
            "Epoch 110/500\n",
            "1/1 [==============================] - 0s 257ms/step - loss: 0.2172 - accuracy: 0.9412 - val_loss: 6.4759 - val_accuracy: 0.0000e+00\n",
            "Epoch 111/500\n",
            "1/1 [==============================] - 0s 237ms/step - loss: 0.4190 - accuracy: 0.8235 - val_loss: 6.4475 - val_accuracy: 0.0000e+00\n",
            "Epoch 112/500\n",
            "1/1 [==============================] - 0s 257ms/step - loss: 0.0525 - accuracy: 1.0000 - val_loss: 6.4252 - val_accuracy: 0.0000e+00\n",
            "Epoch 113/500\n",
            "1/1 [==============================] - 0s 253ms/step - loss: 0.5043 - accuracy: 0.8824 - val_loss: 6.3851 - val_accuracy: 0.0000e+00\n",
            "Epoch 114/500\n",
            "1/1 [==============================] - 0s 251ms/step - loss: 0.1340 - accuracy: 0.9412 - val_loss: 6.3448 - val_accuracy: 0.0000e+00\n",
            "Epoch 115/500\n",
            "1/1 [==============================] - 0s 253ms/step - loss: 0.1998 - accuracy: 0.9412 - val_loss: 6.3232 - val_accuracy: 0.0000e+00\n",
            "Epoch 116/500\n",
            "1/1 [==============================] - 0s 237ms/step - loss: 0.0461 - accuracy: 1.0000 - val_loss: 6.3056 - val_accuracy: 0.0000e+00\n",
            "Epoch 117/500\n",
            "1/1 [==============================] - 0s 260ms/step - loss: 0.2250 - accuracy: 0.8824 - val_loss: 6.2805 - val_accuracy: 0.0000e+00\n",
            "Epoch 118/500\n",
            "1/1 [==============================] - 0s 244ms/step - loss: 0.0448 - accuracy: 1.0000 - val_loss: 6.2593 - val_accuracy: 0.0000e+00\n",
            "Epoch 119/500\n",
            "1/1 [==============================] - 0s 244ms/step - loss: 0.2939 - accuracy: 0.9412 - val_loss: 6.2349 - val_accuracy: 0.0000e+00\n",
            "Epoch 120/500\n",
            "1/1 [==============================] - 0s 261ms/step - loss: 0.0348 - accuracy: 1.0000 - val_loss: 6.2103 - val_accuracy: 0.0000e+00\n",
            "Epoch 121/500\n",
            "1/1 [==============================] - 0s 259ms/step - loss: 0.1485 - accuracy: 0.9412 - val_loss: 6.1885 - val_accuracy: 0.0000e+00\n",
            "Epoch 122/500\n",
            "1/1 [==============================] - 0s 265ms/step - loss: 0.0842 - accuracy: 1.0000 - val_loss: 6.1617 - val_accuracy: 0.0000e+00\n",
            "Epoch 123/500\n",
            "1/1 [==============================] - 0s 253ms/step - loss: 0.1566 - accuracy: 0.9412 - val_loss: 6.1511 - val_accuracy: 0.0000e+00\n",
            "Epoch 124/500\n",
            "1/1 [==============================] - 0s 257ms/step - loss: 0.1211 - accuracy: 0.9412 - val_loss: 6.1470 - val_accuracy: 0.0000e+00\n",
            "Epoch 125/500\n",
            "1/1 [==============================] - 0s 167ms/step - loss: 0.1234 - accuracy: 0.9412 - val_loss: 6.1576 - val_accuracy: 0.0000e+00\n",
            "Epoch 126/500\n",
            "1/1 [==============================] - 0s 154ms/step - loss: 0.1576 - accuracy: 0.9412 - val_loss: 6.1596 - val_accuracy: 0.0000e+00\n",
            "Epoch 127/500\n",
            "1/1 [==============================] - 0s 149ms/step - loss: 0.1203 - accuracy: 1.0000 - val_loss: 6.1567 - val_accuracy: 0.0000e+00\n",
            "Epoch 128/500\n",
            "1/1 [==============================] - 0s 158ms/step - loss: 0.0784 - accuracy: 1.0000 - val_loss: 6.1689 - val_accuracy: 0.0000e+00\n",
            "Epoch 129/500\n",
            "1/1 [==============================] - 0s 174ms/step - loss: 0.0261 - accuracy: 1.0000 - val_loss: 6.1861 - val_accuracy: 0.0000e+00\n",
            "Epoch 130/500\n",
            "1/1 [==============================] - 0s 154ms/step - loss: 0.1125 - accuracy: 0.9412 - val_loss: 6.1887 - val_accuracy: 0.0000e+00\n",
            "Epoch 131/500\n",
            "1/1 [==============================] - 0s 160ms/step - loss: 0.1282 - accuracy: 0.9412 - val_loss: 6.1499 - val_accuracy: 0.0000e+00\n",
            "Epoch 132/500\n",
            "1/1 [==============================] - 0s 159ms/step - loss: 0.2251 - accuracy: 0.9412 - val_loss: 6.1118 - val_accuracy: 0.0000e+00\n",
            "Epoch 133/500\n",
            "1/1 [==============================] - 0s 150ms/step - loss: 0.7030 - accuracy: 0.8824 - val_loss: 6.0487 - val_accuracy: 0.0000e+00\n",
            "Epoch 134/500\n",
            "1/1 [==============================] - 0s 152ms/step - loss: 0.0617 - accuracy: 1.0000 - val_loss: 5.9916 - val_accuracy: 0.0000e+00\n",
            "Epoch 135/500\n",
            "1/1 [==============================] - 0s 170ms/step - loss: 0.0799 - accuracy: 1.0000 - val_loss: 5.9419 - val_accuracy: 0.0000e+00\n",
            "Epoch 136/500\n",
            "1/1 [==============================] - 0s 177ms/step - loss: 0.1146 - accuracy: 1.0000 - val_loss: 5.9051 - val_accuracy: 0.0000e+00\n",
            "Epoch 137/500\n",
            "1/1 [==============================] - 0s 166ms/step - loss: 0.2615 - accuracy: 0.9412 - val_loss: 5.8733 - val_accuracy: 0.0000e+00\n",
            "Epoch 138/500\n",
            "1/1 [==============================] - 0s 161ms/step - loss: 0.0820 - accuracy: 1.0000 - val_loss: 5.8462 - val_accuracy: 0.0000e+00\n",
            "Epoch 139/500\n",
            "1/1 [==============================] - 0s 156ms/step - loss: 0.3246 - accuracy: 0.8235 - val_loss: 5.8067 - val_accuracy: 0.0000e+00\n",
            "Epoch 140/500\n",
            "1/1 [==============================] - 0s 163ms/step - loss: 0.0051 - accuracy: 1.0000 - val_loss: 5.7768 - val_accuracy: 0.0000e+00\n",
            "Epoch 141/500\n",
            "1/1 [==============================] - 0s 170ms/step - loss: 0.0376 - accuracy: 1.0000 - val_loss: 5.7515 - val_accuracy: 0.0000e+00\n",
            "Epoch 142/500\n",
            "1/1 [==============================] - 0s 163ms/step - loss: 0.0117 - accuracy: 1.0000 - val_loss: 5.7364 - val_accuracy: 0.0000e+00\n",
            "Epoch 143/500\n",
            "1/1 [==============================] - 0s 151ms/step - loss: 0.1150 - accuracy: 0.9412 - val_loss: 5.7236 - val_accuracy: 0.0000e+00\n",
            "Epoch 144/500\n",
            "1/1 [==============================] - 0s 150ms/step - loss: 0.0856 - accuracy: 1.0000 - val_loss: 5.7030 - val_accuracy: 0.0000e+00\n",
            "Epoch 145/500\n",
            "1/1 [==============================] - 0s 153ms/step - loss: 0.1015 - accuracy: 1.0000 - val_loss: 5.6854 - val_accuracy: 0.0000e+00\n",
            "Epoch 146/500\n",
            "1/1 [==============================] - 0s 153ms/step - loss: 0.0941 - accuracy: 0.9412 - val_loss: 5.6721 - val_accuracy: 0.0000e+00\n",
            "Epoch 147/500\n",
            "1/1 [==============================] - 0s 152ms/step - loss: 0.5826 - accuracy: 0.8235 - val_loss: 5.6852 - val_accuracy: 0.0000e+00\n",
            "Epoch 148/500\n",
            "1/1 [==============================] - 0s 178ms/step - loss: 0.0557 - accuracy: 1.0000 - val_loss: 5.7017 - val_accuracy: 0.0000e+00\n",
            "Epoch 149/500\n",
            "1/1 [==============================] - 0s 169ms/step - loss: 0.1126 - accuracy: 0.9412 - val_loss: 5.7301 - val_accuracy: 0.0000e+00\n",
            "Epoch 150/500\n",
            "1/1 [==============================] - 0s 166ms/step - loss: 0.0402 - accuracy: 1.0000 - val_loss: 5.7724 - val_accuracy: 0.0000e+00\n",
            "Epoch 151/500\n",
            "1/1 [==============================] - 0s 166ms/step - loss: 0.1542 - accuracy: 0.9412 - val_loss: 5.8069 - val_accuracy: 0.0000e+00\n",
            "Epoch 152/500\n",
            "1/1 [==============================] - 0s 162ms/step - loss: 0.0118 - accuracy: 1.0000 - val_loss: 5.8392 - val_accuracy: 0.0000e+00\n",
            "Epoch 153/500\n",
            "1/1 [==============================] - 0s 160ms/step - loss: 0.1215 - accuracy: 0.9412 - val_loss: 5.8633 - val_accuracy: 0.0000e+00\n",
            "Epoch 154/500\n",
            "1/1 [==============================] - 0s 160ms/step - loss: 0.0314 - accuracy: 1.0000 - val_loss: 5.8891 - val_accuracy: 0.0000e+00\n",
            "Epoch 155/500\n",
            "1/1 [==============================] - 0s 157ms/step - loss: 0.0328 - accuracy: 1.0000 - val_loss: 5.9131 - val_accuracy: 0.0000e+00\n",
            "Epoch 156/500\n",
            "1/1 [==============================] - 0s 164ms/step - loss: 0.0170 - accuracy: 1.0000 - val_loss: 5.9408 - val_accuracy: 0.0000e+00\n",
            "Epoch 157/500\n",
            "1/1 [==============================] - 0s 161ms/step - loss: 0.0151 - accuracy: 1.0000 - val_loss: 5.9614 - val_accuracy: 0.0000e+00\n",
            "Epoch 158/500\n",
            "1/1 [==============================] - 0s 169ms/step - loss: 0.0504 - accuracy: 1.0000 - val_loss: 5.9897 - val_accuracy: 0.0000e+00\n",
            "Epoch 159/500\n",
            "1/1 [==============================] - 0s 185ms/step - loss: 0.0195 - accuracy: 1.0000 - val_loss: 6.0131 - val_accuracy: 0.0000e+00\n",
            "Epoch 160/500\n",
            "1/1 [==============================] - 0s 164ms/step - loss: 0.3912 - accuracy: 0.8824 - val_loss: 6.0644 - val_accuracy: 0.0000e+00\n",
            "Epoch 161/500\n",
            "1/1 [==============================] - 0s 151ms/step - loss: 0.0886 - accuracy: 0.9412 - val_loss: 6.1041 - val_accuracy: 0.0000e+00\n",
            "Epoch 162/500\n",
            "1/1 [==============================] - 0s 152ms/step - loss: 0.0354 - accuracy: 1.0000 - val_loss: 6.1339 - val_accuracy: 0.0000e+00\n",
            "Epoch 163/500\n",
            "1/1 [==============================] - 0s 163ms/step - loss: 0.0072 - accuracy: 1.0000 - val_loss: 6.1607 - val_accuracy: 0.0000e+00\n",
            "Epoch 164/500\n",
            "1/1 [==============================] - 0s 153ms/step - loss: 0.0331 - accuracy: 1.0000 - val_loss: 6.1845 - val_accuracy: 0.0000e+00\n",
            "Epoch 165/500\n",
            "1/1 [==============================] - 0s 163ms/step - loss: 0.0286 - accuracy: 1.0000 - val_loss: 6.2059 - val_accuracy: 0.0000e+00\n",
            "Epoch 166/500\n",
            "1/1 [==============================] - 0s 166ms/step - loss: 0.0472 - accuracy: 1.0000 - val_loss: 6.2281 - val_accuracy: 0.0000e+00\n",
            "Epoch 167/500\n",
            "1/1 [==============================] - 0s 156ms/step - loss: 0.1614 - accuracy: 0.9412 - val_loss: 6.2305 - val_accuracy: 0.0000e+00\n",
            "Epoch 168/500\n",
            "1/1 [==============================] - 0s 162ms/step - loss: 0.0745 - accuracy: 0.9412 - val_loss: 6.2220 - val_accuracy: 0.0000e+00\n",
            "Epoch 169/500\n",
            "1/1 [==============================] - 0s 154ms/step - loss: 0.2283 - accuracy: 0.9412 - val_loss: 6.2224 - val_accuracy: 0.0000e+00\n",
            "Epoch 170/500\n",
            "1/1 [==============================] - 0s 163ms/step - loss: 0.1561 - accuracy: 1.0000 - val_loss: 6.2059 - val_accuracy: 0.0000e+00\n",
            "Epoch 171/500\n",
            "1/1 [==============================] - 0s 171ms/step - loss: 0.1694 - accuracy: 0.9412 - val_loss: 6.1980 - val_accuracy: 0.0000e+00\n",
            "Epoch 172/500\n",
            "1/1 [==============================] - 0s 167ms/step - loss: 0.0667 - accuracy: 1.0000 - val_loss: 6.1919 - val_accuracy: 0.0000e+00\n",
            "Epoch 173/500\n",
            "1/1 [==============================] - 0s 164ms/step - loss: 0.0259 - accuracy: 1.0000 - val_loss: 6.2018 - val_accuracy: 0.0000e+00\n",
            "Epoch 174/500\n",
            "1/1 [==============================] - 0s 162ms/step - loss: 0.0663 - accuracy: 1.0000 - val_loss: 6.2212 - val_accuracy: 0.0000e+00\n",
            "Epoch 175/500\n",
            "1/1 [==============================] - 0s 173ms/step - loss: 0.0305 - accuracy: 1.0000 - val_loss: 6.2457 - val_accuracy: 0.0000e+00\n",
            "Epoch 176/500\n",
            "1/1 [==============================] - 0s 162ms/step - loss: 0.0030 - accuracy: 1.0000 - val_loss: 6.2718 - val_accuracy: 0.0000e+00\n",
            "Epoch 177/500\n",
            "1/1 [==============================] - 0s 154ms/step - loss: 0.0223 - accuracy: 1.0000 - val_loss: 6.3046 - val_accuracy: 0.0000e+00\n",
            "Epoch 178/500\n",
            "1/1 [==============================] - 0s 170ms/step - loss: 0.2652 - accuracy: 0.9412 - val_loss: 6.3164 - val_accuracy: 0.0000e+00\n",
            "Epoch 179/500\n",
            "1/1 [==============================] - 0s 152ms/step - loss: 0.0308 - accuracy: 1.0000 - val_loss: 6.3285 - val_accuracy: 0.0000e+00\n",
            "Epoch 180/500\n",
            "1/1 [==============================] - 0s 153ms/step - loss: 0.3247 - accuracy: 0.8824 - val_loss: 6.3164 - val_accuracy: 0.0000e+00\n",
            "Epoch 181/500\n",
            "1/1 [==============================] - 0s 151ms/step - loss: 0.0426 - accuracy: 1.0000 - val_loss: 6.3207 - val_accuracy: 0.0000e+00\n",
            "Epoch 182/500\n",
            "1/1 [==============================] - 0s 155ms/step - loss: 0.0119 - accuracy: 1.0000 - val_loss: 6.3242 - val_accuracy: 0.0000e+00\n",
            "Epoch 183/500\n",
            "1/1 [==============================] - 0s 149ms/step - loss: 0.3384 - accuracy: 0.8824 - val_loss: 6.3028 - val_accuracy: 0.0000e+00\n",
            "Epoch 184/500\n",
            "1/1 [==============================] - 0s 228ms/step - loss: 0.0242 - accuracy: 1.0000 - val_loss: 6.2829 - val_accuracy: 0.0000e+00\n",
            "Epoch 185/500\n",
            "1/1 [==============================] - 0s 228ms/step - loss: 0.0084 - accuracy: 1.0000 - val_loss: 6.2636 - val_accuracy: 0.0000e+00\n",
            "Epoch 186/500\n",
            "1/1 [==============================] - 0s 276ms/step - loss: 0.0187 - accuracy: 1.0000 - val_loss: 6.2501 - val_accuracy: 0.0000e+00\n",
            "Epoch 187/500\n",
            "1/1 [==============================] - 0s 248ms/step - loss: 0.0050 - accuracy: 1.0000 - val_loss: 6.2404 - val_accuracy: 0.0000e+00\n",
            "Epoch 188/500\n",
            "1/1 [==============================] - 0s 281ms/step - loss: 0.0085 - accuracy: 1.0000 - val_loss: 6.2329 - val_accuracy: 0.0000e+00\n",
            "Epoch 189/500\n",
            "1/1 [==============================] - 0s 252ms/step - loss: 0.0566 - accuracy: 1.0000 - val_loss: 6.2402 - val_accuracy: 0.0000e+00\n",
            "Epoch 190/500\n",
            "1/1 [==============================] - 0s 251ms/step - loss: 0.3539 - accuracy: 0.8824 - val_loss: 6.2285 - val_accuracy: 0.0000e+00\n",
            "Epoch 191/500\n",
            "1/1 [==============================] - 0s 225ms/step - loss: 0.4390 - accuracy: 0.9412 - val_loss: 6.1925 - val_accuracy: 0.0000e+00\n",
            "Epoch 192/500\n",
            "1/1 [==============================] - 0s 276ms/step - loss: 0.0819 - accuracy: 0.9412 - val_loss: 6.1703 - val_accuracy: 0.0000e+00\n",
            "Epoch 193/500\n",
            "1/1 [==============================] - 0s 266ms/step - loss: 0.0128 - accuracy: 1.0000 - val_loss: 6.1532 - val_accuracy: 0.0000e+00\n",
            "Epoch 194/500\n",
            "1/1 [==============================] - 0s 266ms/step - loss: 0.1068 - accuracy: 0.9412 - val_loss: 6.1405 - val_accuracy: 0.0000e+00\n",
            "Epoch 195/500\n",
            "1/1 [==============================] - 0s 264ms/step - loss: 0.1292 - accuracy: 0.9412 - val_loss: 6.1446 - val_accuracy: 0.0000e+00\n",
            "Epoch 196/500\n",
            "1/1 [==============================] - 0s 275ms/step - loss: 0.0470 - accuracy: 1.0000 - val_loss: 6.1641 - val_accuracy: 0.0000e+00\n",
            "Epoch 197/500\n",
            "1/1 [==============================] - 0s 245ms/step - loss: 0.0776 - accuracy: 1.0000 - val_loss: 6.1600 - val_accuracy: 0.0000e+00\n",
            "Epoch 198/500\n",
            "1/1 [==============================] - 0s 267ms/step - loss: 0.6348 - accuracy: 0.9412 - val_loss: 6.1616 - val_accuracy: 0.0000e+00\n",
            "Epoch 199/500\n",
            "1/1 [==============================] - 0s 257ms/step - loss: 0.0103 - accuracy: 1.0000 - val_loss: 6.1646 - val_accuracy: 0.0000e+00\n",
            "Epoch 200/500\n",
            "1/1 [==============================] - 0s 273ms/step - loss: 0.3396 - accuracy: 0.9412 - val_loss: 6.1536 - val_accuracy: 0.0000e+00\n",
            "Epoch 201/500\n",
            "1/1 [==============================] - 0s 260ms/step - loss: 0.0061 - accuracy: 1.0000 - val_loss: 6.1476 - val_accuracy: 0.0000e+00\n",
            "Epoch 202/500\n",
            "1/1 [==============================] - 0s 255ms/step - loss: 0.0306 - accuracy: 1.0000 - val_loss: 6.1506 - val_accuracy: 0.0000e+00\n",
            "Epoch 203/500\n",
            "1/1 [==============================] - 0s 157ms/step - loss: 0.0345 - accuracy: 1.0000 - val_loss: 6.1544 - val_accuracy: 0.0000e+00\n",
            "Epoch 204/500\n",
            "1/1 [==============================] - 0s 171ms/step - loss: 0.9808 - accuracy: 0.8824 - val_loss: 6.1298 - val_accuracy: 0.0000e+00\n",
            "Epoch 205/500\n",
            "1/1 [==============================] - 0s 170ms/step - loss: 0.1870 - accuracy: 0.9412 - val_loss: 6.1329 - val_accuracy: 0.0000e+00\n",
            "Epoch 206/500\n",
            "1/1 [==============================] - 0s 158ms/step - loss: 0.0223 - accuracy: 1.0000 - val_loss: 6.1437 - val_accuracy: 0.0000e+00\n",
            "Epoch 207/500\n",
            "1/1 [==============================] - 0s 156ms/step - loss: 0.0666 - accuracy: 1.0000 - val_loss: 6.1503 - val_accuracy: 0.0000e+00\n",
            "Epoch 208/500\n",
            "1/1 [==============================] - 0s 166ms/step - loss: 0.0175 - accuracy: 1.0000 - val_loss: 6.1634 - val_accuracy: 0.0000e+00\n",
            "Epoch 209/500\n",
            "1/1 [==============================] - 0s 153ms/step - loss: 0.1605 - accuracy: 0.9412 - val_loss: 6.1341 - val_accuracy: 0.0000e+00\n",
            "Epoch 210/500\n",
            "1/1 [==============================] - 0s 165ms/step - loss: 0.5526 - accuracy: 0.8824 - val_loss: 6.0751 - val_accuracy: 0.0000e+00\n",
            "Epoch 211/500\n",
            "1/1 [==============================] - 0s 164ms/step - loss: 0.0854 - accuracy: 1.0000 - val_loss: 6.0205 - val_accuracy: 0.0000e+00\n",
            "Epoch 212/500\n",
            "1/1 [==============================] - 0s 152ms/step - loss: 0.0119 - accuracy: 1.0000 - val_loss: 5.9862 - val_accuracy: 0.0000e+00\n",
            "Epoch 213/500\n",
            "1/1 [==============================] - 0s 162ms/step - loss: 0.2817 - accuracy: 0.9412 - val_loss: 5.9381 - val_accuracy: 0.0000e+00\n",
            "Epoch 214/500\n",
            "1/1 [==============================] - 0s 199ms/step - loss: 0.0866 - accuracy: 0.9412 - val_loss: 5.8999 - val_accuracy: 0.0000e+00\n",
            "Epoch 215/500\n",
            "1/1 [==============================] - 0s 165ms/step - loss: 0.0186 - accuracy: 1.0000 - val_loss: 5.8726 - val_accuracy: 0.0000e+00\n",
            "Epoch 216/500\n",
            "1/1 [==============================] - 0s 157ms/step - loss: 0.1900 - accuracy: 0.9412 - val_loss: 5.8557 - val_accuracy: 0.0000e+00\n",
            "Epoch 217/500\n",
            "1/1 [==============================] - 0s 171ms/step - loss: 0.0073 - accuracy: 1.0000 - val_loss: 5.8435 - val_accuracy: 0.0000e+00\n",
            "Epoch 218/500\n",
            "1/1 [==============================] - 0s 161ms/step - loss: 0.0034 - accuracy: 1.0000 - val_loss: 5.8361 - val_accuracy: 0.0000e+00\n",
            "Epoch 219/500\n",
            "1/1 [==============================] - 0s 169ms/step - loss: 0.2338 - accuracy: 0.9412 - val_loss: 5.8185 - val_accuracy: 0.0000e+00\n",
            "Epoch 220/500\n",
            "1/1 [==============================] - 0s 153ms/step - loss: 0.0310 - accuracy: 1.0000 - val_loss: 5.8110 - val_accuracy: 0.0000e+00\n",
            "Epoch 221/500\n",
            "1/1 [==============================] - 0s 159ms/step - loss: 0.0441 - accuracy: 1.0000 - val_loss: 5.8059 - val_accuracy: 0.0000e+00\n",
            "Epoch 222/500\n",
            "1/1 [==============================] - 0s 159ms/step - loss: 0.0230 - accuracy: 1.0000 - val_loss: 5.8049 - val_accuracy: 0.0000e+00\n",
            "Epoch 223/500\n",
            "1/1 [==============================] - 0s 177ms/step - loss: 0.0977 - accuracy: 1.0000 - val_loss: 5.8132 - val_accuracy: 0.0000e+00\n",
            "Epoch 224/500\n",
            "1/1 [==============================] - 0s 154ms/step - loss: 0.0225 - accuracy: 1.0000 - val_loss: 5.8280 - val_accuracy: 0.0000e+00\n",
            "Epoch 225/500\n",
            "1/1 [==============================] - 0s 154ms/step - loss: 0.0156 - accuracy: 1.0000 - val_loss: 5.8417 - val_accuracy: 0.0000e+00\n",
            "Epoch 226/500\n",
            "1/1 [==============================] - 0s 158ms/step - loss: 0.1292 - accuracy: 0.8824 - val_loss: 5.8727 - val_accuracy: 0.0000e+00\n",
            "Epoch 227/500\n",
            "1/1 [==============================] - 0s 165ms/step - loss: 0.0871 - accuracy: 1.0000 - val_loss: 5.9203 - val_accuracy: 0.0000e+00\n",
            "Epoch 228/500\n",
            "1/1 [==============================] - 0s 159ms/step - loss: 0.0908 - accuracy: 0.9412 - val_loss: 5.9698 - val_accuracy: 0.0000e+00\n",
            "Epoch 229/500\n",
            "1/1 [==============================] - 0s 172ms/step - loss: 0.0105 - accuracy: 1.0000 - val_loss: 6.0218 - val_accuracy: 0.0000e+00\n",
            "Epoch 230/500\n",
            "1/1 [==============================] - 0s 166ms/step - loss: 0.0576 - accuracy: 1.0000 - val_loss: 6.0694 - val_accuracy: 0.0000e+00\n",
            "Epoch 231/500\n",
            "1/1 [==============================] - 0s 171ms/step - loss: 0.0347 - accuracy: 1.0000 - val_loss: 6.1169 - val_accuracy: 0.0000e+00\n",
            "Epoch 232/500\n",
            "1/1 [==============================] - 0s 152ms/step - loss: 0.0495 - accuracy: 1.0000 - val_loss: 6.1711 - val_accuracy: 0.0000e+00\n",
            "Epoch 233/500\n",
            "1/1 [==============================] - 0s 166ms/step - loss: 0.0287 - accuracy: 1.0000 - val_loss: 6.2275 - val_accuracy: 0.0000e+00\n",
            "Epoch 234/500\n",
            "1/1 [==============================] - 0s 158ms/step - loss: 0.0163 - accuracy: 1.0000 - val_loss: 6.2873 - val_accuracy: 0.0000e+00\n",
            "Epoch 235/500\n",
            "1/1 [==============================] - 0s 165ms/step - loss: 0.0079 - accuracy: 1.0000 - val_loss: 6.3485 - val_accuracy: 0.0000e+00\n",
            "Epoch 236/500\n",
            "1/1 [==============================] - 0s 153ms/step - loss: 0.0182 - accuracy: 1.0000 - val_loss: 6.4133 - val_accuracy: 0.0000e+00\n",
            "Epoch 237/500\n",
            "1/1 [==============================] - 0s 188ms/step - loss: 0.0848 - accuracy: 0.9412 - val_loss: 6.3927 - val_accuracy: 0.0000e+00\n",
            "Epoch 238/500\n",
            "1/1 [==============================] - 0s 157ms/step - loss: 0.0018 - accuracy: 1.0000 - val_loss: 6.3858 - val_accuracy: 0.0000e+00\n",
            "Epoch 239/500\n",
            "1/1 [==============================] - 0s 154ms/step - loss: 0.0352 - accuracy: 1.0000 - val_loss: 6.3754 - val_accuracy: 0.0000e+00\n",
            "Epoch 240/500\n",
            "1/1 [==============================] - 0s 172ms/step - loss: 0.0425 - accuracy: 1.0000 - val_loss: 6.3721 - val_accuracy: 0.0000e+00\n",
            "Epoch 241/500\n",
            "1/1 [==============================] - 0s 164ms/step - loss: 0.0906 - accuracy: 0.9412 - val_loss: 6.3698 - val_accuracy: 0.0000e+00\n",
            "Epoch 242/500\n",
            "1/1 [==============================] - 0s 180ms/step - loss: 0.0358 - accuracy: 1.0000 - val_loss: 6.3786 - val_accuracy: 0.0000e+00\n",
            "Epoch 243/500\n",
            "1/1 [==============================] - 0s 159ms/step - loss: 0.0067 - accuracy: 1.0000 - val_loss: 6.4026 - val_accuracy: 0.0000e+00\n",
            "Epoch 244/500\n",
            "1/1 [==============================] - 0s 164ms/step - loss: 0.0115 - accuracy: 1.0000 - val_loss: 6.4309 - val_accuracy: 0.0000e+00\n",
            "Epoch 245/500\n",
            "1/1 [==============================] - 0s 167ms/step - loss: 0.2476 - accuracy: 0.8824 - val_loss: 6.4800 - val_accuracy: 0.0000e+00\n",
            "Epoch 246/500\n",
            "1/1 [==============================] - 0s 167ms/step - loss: 0.1177 - accuracy: 0.9412 - val_loss: 6.5232 - val_accuracy: 0.0000e+00\n",
            "Epoch 247/500\n",
            "1/1 [==============================] - 0s 169ms/step - loss: 0.1025 - accuracy: 0.9412 - val_loss: 6.5741 - val_accuracy: 0.0000e+00\n",
            "Epoch 248/500\n",
            "1/1 [==============================] - 0s 155ms/step - loss: 0.0724 - accuracy: 1.0000 - val_loss: 6.6425 - val_accuracy: 0.0000e+00\n",
            "Epoch 249/500\n",
            "1/1 [==============================] - 0s 164ms/step - loss: 0.0792 - accuracy: 0.9412 - val_loss: 6.7356 - val_accuracy: 0.0000e+00\n",
            "Epoch 250/500\n",
            "1/1 [==============================] - 0s 163ms/step - loss: 0.0181 - accuracy: 1.0000 - val_loss: 6.8290 - val_accuracy: 0.0000e+00\n",
            "Epoch 251/500\n",
            "1/1 [==============================] - 0s 163ms/step - loss: 0.0104 - accuracy: 1.0000 - val_loss: 6.9251 - val_accuracy: 0.0000e+00\n",
            "Epoch 252/500\n",
            "1/1 [==============================] - 0s 159ms/step - loss: 0.0247 - accuracy: 1.0000 - val_loss: 7.0207 - val_accuracy: 0.0000e+00\n",
            "Epoch 253/500\n",
            "1/1 [==============================] - 0s 179ms/step - loss: 0.0024 - accuracy: 1.0000 - val_loss: 7.1120 - val_accuracy: 0.0000e+00\n",
            "Epoch 254/500\n",
            "1/1 [==============================] - 0s 167ms/step - loss: 0.1539 - accuracy: 0.9412 - val_loss: 7.1677 - val_accuracy: 0.0000e+00\n",
            "Epoch 255/500\n",
            "1/1 [==============================] - 0s 166ms/step - loss: 0.0256 - accuracy: 1.0000 - val_loss: 7.2605 - val_accuracy: 0.0000e+00\n",
            "Epoch 256/500\n",
            "1/1 [==============================] - 0s 165ms/step - loss: 0.0164 - accuracy: 1.0000 - val_loss: 7.3794 - val_accuracy: 0.0000e+00\n",
            "Epoch 257/500\n",
            "1/1 [==============================] - 0s 176ms/step - loss: 0.0193 - accuracy: 1.0000 - val_loss: 7.5030 - val_accuracy: 0.0000e+00\n",
            "Epoch 258/500\n",
            "1/1 [==============================] - 0s 168ms/step - loss: 0.1815 - accuracy: 0.9412 - val_loss: 7.6046 - val_accuracy: 0.0000e+00\n",
            "Epoch 259/500\n",
            "1/1 [==============================] - 0s 168ms/step - loss: 0.0562 - accuracy: 1.0000 - val_loss: 7.6000 - val_accuracy: 0.0000e+00\n",
            "Epoch 260/500\n",
            "1/1 [==============================] - 0s 166ms/step - loss: 0.0444 - accuracy: 1.0000 - val_loss: 7.5568 - val_accuracy: 0.0000e+00\n",
            "Epoch 261/500\n",
            "1/1 [==============================] - 0s 182ms/step - loss: 0.0420 - accuracy: 1.0000 - val_loss: 7.5254 - val_accuracy: 0.0000e+00\n",
            "Epoch 262/500\n",
            "1/1 [==============================] - 0s 247ms/step - loss: 0.0063 - accuracy: 1.0000 - val_loss: 7.5067 - val_accuracy: 0.0000e+00\n",
            "Epoch 263/500\n",
            "1/1 [==============================] - 0s 269ms/step - loss: 0.3117 - accuracy: 0.8824 - val_loss: 7.4282 - val_accuracy: 0.0000e+00\n",
            "Epoch 264/500\n",
            "1/1 [==============================] - 0s 292ms/step - loss: 0.0309 - accuracy: 1.0000 - val_loss: 7.3673 - val_accuracy: 0.0000e+00\n",
            "Epoch 265/500\n",
            "1/1 [==============================] - 0s 284ms/step - loss: 0.0732 - accuracy: 0.9412 - val_loss: 7.2742 - val_accuracy: 0.0000e+00\n",
            "Epoch 266/500\n",
            "1/1 [==============================] - 0s 265ms/step - loss: 0.2201 - accuracy: 0.9412 - val_loss: 7.1835 - val_accuracy: 0.0000e+00\n",
            "Epoch 267/500\n",
            "1/1 [==============================] - 0s 251ms/step - loss: 0.0534 - accuracy: 1.0000 - val_loss: 7.1070 - val_accuracy: 0.0000e+00\n",
            "Epoch 268/500\n",
            "1/1 [==============================] - 0s 260ms/step - loss: 0.0106 - accuracy: 1.0000 - val_loss: 7.0548 - val_accuracy: 0.0000e+00\n",
            "Epoch 269/500\n",
            "1/1 [==============================] - 0s 254ms/step - loss: 0.0358 - accuracy: 1.0000 - val_loss: 7.0324 - val_accuracy: 0.0000e+00\n",
            "Epoch 270/500\n",
            "1/1 [==============================] - 0s 235ms/step - loss: 0.0035 - accuracy: 1.0000 - val_loss: 7.0099 - val_accuracy: 0.0000e+00\n",
            "Epoch 271/500\n",
            "1/1 [==============================] - 0s 263ms/step - loss: 0.0024 - accuracy: 1.0000 - val_loss: 6.9794 - val_accuracy: 0.0000e+00\n",
            "Epoch 272/500\n",
            "1/1 [==============================] - 0s 269ms/step - loss: 0.0071 - accuracy: 1.0000 - val_loss: 6.9573 - val_accuracy: 0.0000e+00\n",
            "Epoch 273/500\n",
            "1/1 [==============================] - 0s 265ms/step - loss: 0.0030 - accuracy: 1.0000 - val_loss: 6.9396 - val_accuracy: 0.0000e+00\n",
            "Epoch 274/500\n",
            "1/1 [==============================] - 0s 257ms/step - loss: 0.0718 - accuracy: 0.9412 - val_loss: 6.8927 - val_accuracy: 0.0000e+00\n",
            "Epoch 275/500\n",
            "1/1 [==============================] - 0s 264ms/step - loss: 0.2231 - accuracy: 0.9412 - val_loss: 6.8370 - val_accuracy: 0.0000e+00\n",
            "Epoch 276/500\n",
            "1/1 [==============================] - 0s 314ms/step - loss: 0.0045 - accuracy: 1.0000 - val_loss: 6.7989 - val_accuracy: 0.0000e+00\n",
            "Epoch 277/500\n",
            "1/1 [==============================] - 0s 276ms/step - loss: 0.0183 - accuracy: 1.0000 - val_loss: 6.7796 - val_accuracy: 0.0000e+00\n",
            "Epoch 278/500\n",
            "1/1 [==============================] - 0s 258ms/step - loss: 0.0019 - accuracy: 1.0000 - val_loss: 6.7681 - val_accuracy: 0.0000e+00\n",
            "Epoch 279/500\n",
            "1/1 [==============================] - 0s 244ms/step - loss: 0.0054 - accuracy: 1.0000 - val_loss: 6.7682 - val_accuracy: 0.0000e+00\n",
            "Epoch 280/500\n",
            "1/1 [==============================] - 0s 158ms/step - loss: 0.0034 - accuracy: 1.0000 - val_loss: 6.7738 - val_accuracy: 0.0000e+00\n",
            "Epoch 281/500\n",
            "1/1 [==============================] - 0s 157ms/step - loss: 0.1749 - accuracy: 0.9412 - val_loss: 6.8216 - val_accuracy: 0.0000e+00\n",
            "Epoch 282/500\n",
            "1/1 [==============================] - 0s 164ms/step - loss: 0.0151 - accuracy: 1.0000 - val_loss: 6.8753 - val_accuracy: 0.0000e+00\n",
            "Epoch 283/500\n",
            "1/1 [==============================] - 0s 168ms/step - loss: 0.0168 - accuracy: 1.0000 - val_loss: 6.9365 - val_accuracy: 0.0000e+00\n",
            "Epoch 284/500\n",
            "1/1 [==============================] - 0s 165ms/step - loss: 0.0068 - accuracy: 1.0000 - val_loss: 7.0027 - val_accuracy: 0.0000e+00\n",
            "Epoch 285/500\n",
            "1/1 [==============================] - 0s 169ms/step - loss: 0.0601 - accuracy: 1.0000 - val_loss: 7.0896 - val_accuracy: 0.0000e+00\n",
            "Epoch 286/500\n",
            "1/1 [==============================] - 0s 153ms/step - loss: 0.0113 - accuracy: 1.0000 - val_loss: 7.1781 - val_accuracy: 0.0000e+00\n",
            "Epoch 287/500\n",
            "1/1 [==============================] - 0s 177ms/step - loss: 0.0083 - accuracy: 1.0000 - val_loss: 7.2710 - val_accuracy: 0.0000e+00\n",
            "Epoch 288/500\n",
            "1/1 [==============================] - 0s 168ms/step - loss: 0.0129 - accuracy: 1.0000 - val_loss: 7.3708 - val_accuracy: 0.0000e+00\n",
            "Epoch 289/500\n",
            "1/1 [==============================] - 0s 198ms/step - loss: 0.0376 - accuracy: 1.0000 - val_loss: 7.4662 - val_accuracy: 0.0000e+00\n",
            "Epoch 290/500\n",
            "1/1 [==============================] - 0s 154ms/step - loss: 0.0190 - accuracy: 1.0000 - val_loss: 7.5623 - val_accuracy: 0.0000e+00\n",
            "Epoch 291/500\n",
            "1/1 [==============================] - 0s 172ms/step - loss: 0.0027 - accuracy: 1.0000 - val_loss: 7.6525 - val_accuracy: 0.0000e+00\n",
            "Epoch 292/500\n",
            "1/1 [==============================] - 0s 159ms/step - loss: 0.0045 - accuracy: 1.0000 - val_loss: 7.7376 - val_accuracy: 0.0000e+00\n",
            "Epoch 293/500\n",
            "1/1 [==============================] - 0s 173ms/step - loss: 0.0096 - accuracy: 1.0000 - val_loss: 7.8420 - val_accuracy: 0.0000e+00\n",
            "Epoch 294/500\n",
            "1/1 [==============================] - 0s 166ms/step - loss: 0.0057 - accuracy: 1.0000 - val_loss: 7.9390 - val_accuracy: 0.0000e+00\n",
            "Epoch 295/500\n",
            "1/1 [==============================] - 0s 157ms/step - loss: 0.0504 - accuracy: 1.0000 - val_loss: 8.0094 - val_accuracy: 0.0000e+00\n",
            "Epoch 296/500\n",
            "1/1 [==============================] - 0s 192ms/step - loss: 0.0019 - accuracy: 1.0000 - val_loss: 8.0694 - val_accuracy: 0.0000e+00\n",
            "Epoch 297/500\n",
            "1/1 [==============================] - 0s 164ms/step - loss: 0.0040 - accuracy: 1.0000 - val_loss: 8.1240 - val_accuracy: 0.0000e+00\n",
            "Epoch 298/500\n",
            "1/1 [==============================] - 0s 151ms/step - loss: 0.0466 - accuracy: 0.9412 - val_loss: 8.0525 - val_accuracy: 0.0000e+00\n",
            "Epoch 299/500\n",
            "1/1 [==============================] - 0s 161ms/step - loss: 0.1609 - accuracy: 0.8824 - val_loss: 7.8673 - val_accuracy: 0.0000e+00\n",
            "Epoch 300/500\n",
            "1/1 [==============================] - 0s 154ms/step - loss: 0.0020 - accuracy: 1.0000 - val_loss: 7.7215 - val_accuracy: 0.0000e+00\n",
            "Epoch 301/500\n",
            "1/1 [==============================] - 0s 164ms/step - loss: 0.1177 - accuracy: 0.9412 - val_loss: 7.6468 - val_accuracy: 0.0000e+00\n",
            "Epoch 302/500\n",
            "1/1 [==============================] - 0s 160ms/step - loss: 0.0012 - accuracy: 1.0000 - val_loss: 7.5918 - val_accuracy: 0.0000e+00\n",
            "Epoch 303/500\n",
            "1/1 [==============================] - 0s 176ms/step - loss: 0.0201 - accuracy: 1.0000 - val_loss: 7.5625 - val_accuracy: 0.0000e+00\n",
            "Epoch 304/500\n",
            "1/1 [==============================] - 0s 155ms/step - loss: 0.0020 - accuracy: 1.0000 - val_loss: 7.5449 - val_accuracy: 0.0000e+00\n",
            "Epoch 305/500\n",
            "1/1 [==============================] - 0s 157ms/step - loss: 0.0761 - accuracy: 0.9412 - val_loss: 7.5083 - val_accuracy: 0.0000e+00\n",
            "Epoch 306/500\n",
            "1/1 [==============================] - 0s 177ms/step - loss: 0.0040 - accuracy: 1.0000 - val_loss: 7.4869 - val_accuracy: 0.0000e+00\n",
            "Epoch 307/500\n",
            "1/1 [==============================] - 0s 159ms/step - loss: 0.0317 - accuracy: 1.0000 - val_loss: 7.4688 - val_accuracy: 0.0000e+00\n",
            "Epoch 308/500\n",
            "1/1 [==============================] - 0s 156ms/step - loss: 0.0027 - accuracy: 1.0000 - val_loss: 7.4570 - val_accuracy: 0.0000e+00\n",
            "Epoch 309/500\n",
            "1/1 [==============================] - 0s 187ms/step - loss: 1.1956e-04 - accuracy: 1.0000 - val_loss: 7.4511 - val_accuracy: 0.0000e+00\n",
            "Epoch 310/500\n",
            "1/1 [==============================] - 0s 157ms/step - loss: 0.0048 - accuracy: 1.0000 - val_loss: 7.4565 - val_accuracy: 0.0000e+00\n",
            "Epoch 311/500\n",
            "1/1 [==============================] - 0s 162ms/step - loss: 0.0021 - accuracy: 1.0000 - val_loss: 7.4683 - val_accuracy: 0.0000e+00\n",
            "Epoch 312/500\n",
            "1/1 [==============================] - 0s 164ms/step - loss: 0.0157 - accuracy: 1.0000 - val_loss: 7.4923 - val_accuracy: 0.0000e+00\n",
            "Epoch 313/500\n",
            "1/1 [==============================] - 0s 160ms/step - loss: 0.0111 - accuracy: 1.0000 - val_loss: 7.5142 - val_accuracy: 0.0000e+00\n",
            "Epoch 314/500\n",
            "1/1 [==============================] - 0s 159ms/step - loss: 0.0031 - accuracy: 1.0000 - val_loss: 7.5372 - val_accuracy: 0.0000e+00\n",
            "Epoch 315/500\n",
            "1/1 [==============================] - 0s 167ms/step - loss: 0.0155 - accuracy: 1.0000 - val_loss: 7.5685 - val_accuracy: 0.0000e+00\n",
            "Epoch 316/500\n",
            "1/1 [==============================] - 0s 168ms/step - loss: 0.0621 - accuracy: 0.9412 - val_loss: 7.5979 - val_accuracy: 0.0000e+00\n",
            "Epoch 317/500\n",
            "1/1 [==============================] - 0s 157ms/step - loss: 0.0265 - accuracy: 1.0000 - val_loss: 7.6488 - val_accuracy: 0.0000e+00\n",
            "Epoch 318/500\n",
            "1/1 [==============================] - 0s 156ms/step - loss: 0.0050 - accuracy: 1.0000 - val_loss: 7.7028 - val_accuracy: 0.0000e+00\n",
            "Epoch 319/500\n",
            "1/1 [==============================] - 0s 155ms/step - loss: 0.0138 - accuracy: 1.0000 - val_loss: 7.7618 - val_accuracy: 0.0000e+00\n",
            "Epoch 320/500\n",
            "1/1 [==============================] - 0s 166ms/step - loss: 0.0148 - accuracy: 1.0000 - val_loss: 7.8289 - val_accuracy: 0.0000e+00\n",
            "Epoch 321/500\n",
            "1/1 [==============================] - 0s 168ms/step - loss: 0.0023 - accuracy: 1.0000 - val_loss: 7.8924 - val_accuracy: 0.0000e+00\n",
            "Epoch 322/500\n",
            "1/1 [==============================] - 0s 176ms/step - loss: 0.0012 - accuracy: 1.0000 - val_loss: 7.9575 - val_accuracy: 0.0000e+00\n",
            "Epoch 323/500\n",
            "1/1 [==============================] - 0s 159ms/step - loss: 0.0249 - accuracy: 1.0000 - val_loss: 8.0163 - val_accuracy: 0.0000e+00\n",
            "Epoch 324/500\n",
            "1/1 [==============================] - 0s 163ms/step - loss: 0.0483 - accuracy: 0.9412 - val_loss: 8.2008 - val_accuracy: 0.0000e+00\n",
            "Epoch 325/500\n",
            "1/1 [==============================] - 0s 156ms/step - loss: 0.0029 - accuracy: 1.0000 - val_loss: 8.3852 - val_accuracy: 0.0000e+00\n",
            "Epoch 326/500\n",
            "1/1 [==============================] - 0s 155ms/step - loss: 0.0874 - accuracy: 0.9412 - val_loss: 8.4814 - val_accuracy: 0.0000e+00\n",
            "Epoch 327/500\n",
            "1/1 [==============================] - 0s 192ms/step - loss: 0.0781 - accuracy: 1.0000 - val_loss: 8.6488 - val_accuracy: 0.0000e+00\n",
            "Epoch 328/500\n",
            "1/1 [==============================] - 0s 157ms/step - loss: 8.6179e-04 - accuracy: 1.0000 - val_loss: 8.8082 - val_accuracy: 0.0000e+00\n",
            "Epoch 329/500\n",
            "1/1 [==============================] - 0s 165ms/step - loss: 0.1185 - accuracy: 0.9412 - val_loss: 9.0535 - val_accuracy: 0.0000e+00\n",
            "Epoch 330/500\n",
            "1/1 [==============================] - 0s 163ms/step - loss: 0.0383 - accuracy: 1.0000 - val_loss: 9.2237 - val_accuracy: 0.0000e+00\n",
            "Epoch 331/500\n",
            "1/1 [==============================] - 0s 160ms/step - loss: 0.0020 - accuracy: 1.0000 - val_loss: 9.3992 - val_accuracy: 0.0000e+00\n",
            "Epoch 332/500\n",
            "1/1 [==============================] - 0s 165ms/step - loss: 0.0058 - accuracy: 1.0000 - val_loss: 9.5625 - val_accuracy: 0.0000e+00\n",
            "Epoch 333/500\n",
            "1/1 [==============================] - 0s 175ms/step - loss: 0.0081 - accuracy: 1.0000 - val_loss: 9.7129 - val_accuracy: 0.0000e+00\n",
            "Epoch 334/500\n",
            "1/1 [==============================] - 0s 157ms/step - loss: 0.0062 - accuracy: 1.0000 - val_loss: 9.8490 - val_accuracy: 0.0000e+00\n",
            "Epoch 335/500\n",
            "1/1 [==============================] - 0s 172ms/step - loss: 0.0018 - accuracy: 1.0000 - val_loss: 9.9732 - val_accuracy: 0.0000e+00\n",
            "Epoch 336/500\n",
            "1/1 [==============================] - 0s 187ms/step - loss: 0.0048 - accuracy: 1.0000 - val_loss: 10.0953 - val_accuracy: 0.0000e+00\n",
            "Epoch 337/500\n",
            "1/1 [==============================] - 0s 161ms/step - loss: 0.0032 - accuracy: 1.0000 - val_loss: 10.1855 - val_accuracy: 0.0000e+00\n",
            "Epoch 338/500\n",
            "1/1 [==============================] - 0s 204ms/step - loss: 0.0138 - accuracy: 1.0000 - val_loss: 10.2308 - val_accuracy: 0.0000e+00\n",
            "Epoch 339/500\n",
            "1/1 [==============================] - 0s 273ms/step - loss: 0.0571 - accuracy: 1.0000 - val_loss: 10.2725 - val_accuracy: 0.0000e+00\n",
            "Epoch 340/500\n",
            "1/1 [==============================] - 0s 263ms/step - loss: 0.0054 - accuracy: 1.0000 - val_loss: 10.2999 - val_accuracy: 0.0000e+00\n",
            "Epoch 341/500\n",
            "1/1 [==============================] - 0s 264ms/step - loss: 0.1673 - accuracy: 0.9412 - val_loss: 10.2216 - val_accuracy: 0.0000e+00\n",
            "Epoch 342/500\n",
            "1/1 [==============================] - 0s 330ms/step - loss: 0.0636 - accuracy: 0.9412 - val_loss: 10.1672 - val_accuracy: 0.0000e+00\n",
            "Epoch 343/500\n",
            "1/1 [==============================] - 0s 233ms/step - loss: 0.0609 - accuracy: 0.9412 - val_loss: 10.2252 - val_accuracy: 0.0000e+00\n",
            "Epoch 344/500\n",
            "1/1 [==============================] - 0s 257ms/step - loss: 0.0395 - accuracy: 1.0000 - val_loss: 10.2371 - val_accuracy: 0.0000e+00\n",
            "Epoch 345/500\n",
            "1/1 [==============================] - 0s 272ms/step - loss: 0.0090 - accuracy: 1.0000 - val_loss: 10.2378 - val_accuracy: 0.0000e+00\n",
            "Epoch 346/500\n",
            "1/1 [==============================] - 0s 280ms/step - loss: 0.0310 - accuracy: 1.0000 - val_loss: 10.1197 - val_accuracy: 0.0000e+00\n",
            "Epoch 347/500\n",
            "1/1 [==============================] - 0s 298ms/step - loss: 0.0194 - accuracy: 1.0000 - val_loss: 10.0221 - val_accuracy: 0.0000e+00\n",
            "Epoch 348/500\n",
            "1/1 [==============================] - 0s 278ms/step - loss: 0.0208 - accuracy: 1.0000 - val_loss: 9.9133 - val_accuracy: 0.0000e+00\n",
            "Epoch 349/500\n",
            "1/1 [==============================] - 0s 254ms/step - loss: 0.5151 - accuracy: 0.8824 - val_loss: 9.4872 - val_accuracy: 0.0000e+00\n",
            "Epoch 350/500\n",
            "1/1 [==============================] - 0s 267ms/step - loss: 0.0070 - accuracy: 1.0000 - val_loss: 9.1327 - val_accuracy: 0.0000e+00\n",
            "Epoch 351/500\n",
            "1/1 [==============================] - 0s 266ms/step - loss: 9.1036e-04 - accuracy: 1.0000 - val_loss: 8.9279 - val_accuracy: 0.0000e+00\n",
            "Epoch 352/500\n",
            "1/1 [==============================] - 0s 248ms/step - loss: 0.0010 - accuracy: 1.0000 - val_loss: 8.8033 - val_accuracy: 0.0000e+00\n",
            "Epoch 353/500\n",
            "1/1 [==============================] - 0s 240ms/step - loss: 0.0353 - accuracy: 1.0000 - val_loss: 8.7524 - val_accuracy: 0.0000e+00\n",
            "Epoch 354/500\n",
            "1/1 [==============================] - 0s 256ms/step - loss: 0.0088 - accuracy: 1.0000 - val_loss: 8.7304 - val_accuracy: 0.0000e+00\n",
            "Epoch 355/500\n",
            "1/1 [==============================] - 0s 271ms/step - loss: 0.1588 - accuracy: 0.9412 - val_loss: 8.7756 - val_accuracy: 0.0000e+00\n",
            "Epoch 356/500\n",
            "1/1 [==============================] - 0s 241ms/step - loss: 0.0098 - accuracy: 1.0000 - val_loss: 8.8665 - val_accuracy: 0.0000e+00\n",
            "Epoch 357/500\n",
            "1/1 [==============================] - 0s 166ms/step - loss: 0.0907 - accuracy: 1.0000 - val_loss: 8.9886 - val_accuracy: 0.0000e+00\n",
            "Epoch 358/500\n",
            "1/1 [==============================] - 0s 154ms/step - loss: 0.0146 - accuracy: 1.0000 - val_loss: 9.1639 - val_accuracy: 0.0000e+00\n",
            "Epoch 359/500\n",
            "1/1 [==============================] - 0s 180ms/step - loss: 0.0105 - accuracy: 1.0000 - val_loss: 9.3346 - val_accuracy: 0.0000e+00\n",
            "Epoch 360/500\n",
            "1/1 [==============================] - 0s 158ms/step - loss: 0.0408 - accuracy: 1.0000 - val_loss: 9.4992 - val_accuracy: 0.0000e+00\n",
            "Epoch 361/500\n",
            "1/1 [==============================] - 0s 175ms/step - loss: 0.0014 - accuracy: 1.0000 - val_loss: 9.6618 - val_accuracy: 0.0000e+00\n",
            "Epoch 362/500\n",
            "1/1 [==============================] - 0s 157ms/step - loss: 4.8774e-04 - accuracy: 1.0000 - val_loss: 9.8176 - val_accuracy: 0.0000e+00\n",
            "Epoch 363/500\n",
            "1/1 [==============================] - 0s 165ms/step - loss: 0.0031 - accuracy: 1.0000 - val_loss: 9.9593 - val_accuracy: 0.0000e+00\n",
            "Epoch 364/500\n",
            "1/1 [==============================] - 0s 175ms/step - loss: 0.0120 - accuracy: 1.0000 - val_loss: 10.0711 - val_accuracy: 0.0000e+00\n",
            "Epoch 365/500\n",
            "1/1 [==============================] - 0s 170ms/step - loss: 0.0219 - accuracy: 1.0000 - val_loss: 10.0549 - val_accuracy: 0.0000e+00\n",
            "Epoch 366/500\n",
            "1/1 [==============================] - 0s 175ms/step - loss: 0.0142 - accuracy: 1.0000 - val_loss: 10.0113 - val_accuracy: 0.0000e+00\n",
            "Epoch 367/500\n",
            "1/1 [==============================] - 0s 167ms/step - loss: 0.0113 - accuracy: 1.0000 - val_loss: 9.9799 - val_accuracy: 0.0000e+00\n",
            "Epoch 368/500\n",
            "1/1 [==============================] - 0s 167ms/step - loss: 0.2962 - accuracy: 0.8824 - val_loss: 9.7664 - val_accuracy: 0.0000e+00\n",
            "Epoch 369/500\n",
            "1/1 [==============================] - 0s 175ms/step - loss: 0.0676 - accuracy: 0.9412 - val_loss: 9.4424 - val_accuracy: 0.0000e+00\n",
            "Epoch 370/500\n",
            "1/1 [==============================] - 0s 153ms/step - loss: 0.0244 - accuracy: 1.0000 - val_loss: 9.1804 - val_accuracy: 0.0000e+00\n",
            "Epoch 371/500\n",
            "1/1 [==============================] - 0s 171ms/step - loss: 0.1232 - accuracy: 0.9412 - val_loss: 9.0172 - val_accuracy: 0.0000e+00\n",
            "Epoch 372/500\n",
            "1/1 [==============================] - 0s 157ms/step - loss: 0.0615 - accuracy: 0.9412 - val_loss: 8.9712 - val_accuracy: 0.0000e+00\n",
            "Epoch 373/500\n",
            "1/1 [==============================] - 0s 163ms/step - loss: 0.0018 - accuracy: 1.0000 - val_loss: 8.9753 - val_accuracy: 0.0000e+00\n",
            "Epoch 374/500\n",
            "1/1 [==============================] - 0s 152ms/step - loss: 0.1468 - accuracy: 0.9412 - val_loss: 9.0223 - val_accuracy: 0.0000e+00\n",
            "Epoch 375/500\n",
            "1/1 [==============================] - 0s 172ms/step - loss: 0.0135 - accuracy: 1.0000 - val_loss: 9.0833 - val_accuracy: 0.0000e+00\n",
            "Epoch 376/500\n",
            "1/1 [==============================] - 0s 158ms/step - loss: 0.0102 - accuracy: 1.0000 - val_loss: 9.1485 - val_accuracy: 0.0000e+00\n",
            "Epoch 377/500\n",
            "1/1 [==============================] - 0s 173ms/step - loss: 0.0154 - accuracy: 1.0000 - val_loss: 9.2185 - val_accuracy: 0.0000e+00\n",
            "Epoch 378/500\n",
            "1/1 [==============================] - 0s 159ms/step - loss: 0.1308 - accuracy: 0.9412 - val_loss: 9.2568 - val_accuracy: 0.0000e+00\n",
            "Epoch 379/500\n",
            "1/1 [==============================] - 0s 190ms/step - loss: 0.0174 - accuracy: 1.0000 - val_loss: 9.2385 - val_accuracy: 0.0000e+00\n",
            "Epoch 380/500\n",
            "1/1 [==============================] - 0s 158ms/step - loss: 0.2962 - accuracy: 0.8824 - val_loss: 9.1833 - val_accuracy: 0.0000e+00\n",
            "Epoch 381/500\n",
            "1/1 [==============================] - 0s 173ms/step - loss: 0.2936 - accuracy: 0.8824 - val_loss: 8.9993 - val_accuracy: 0.0000e+00\n",
            "Epoch 382/500\n",
            "1/1 [==============================] - 0s 170ms/step - loss: 0.1388 - accuracy: 0.9412 - val_loss: 9.1413 - val_accuracy: 0.0000e+00\n",
            "Epoch 383/500\n",
            "1/1 [==============================] - 0s 173ms/step - loss: 0.1528 - accuracy: 0.9412 - val_loss: 9.3340 - val_accuracy: 0.0000e+00\n",
            "Epoch 384/500\n",
            "1/1 [==============================] - 0s 174ms/step - loss: 0.0027 - accuracy: 1.0000 - val_loss: 9.5148 - val_accuracy: 0.0000e+00\n",
            "Epoch 385/500\n",
            "1/1 [==============================] - 0s 155ms/step - loss: 0.0371 - accuracy: 1.0000 - val_loss: 9.6983 - val_accuracy: 0.0000e+00\n",
            "Epoch 386/500\n",
            "1/1 [==============================] - 0s 160ms/step - loss: 0.0516 - accuracy: 1.0000 - val_loss: 10.0269 - val_accuracy: 0.0000e+00\n",
            "Epoch 387/500\n",
            "1/1 [==============================] - 0s 168ms/step - loss: 0.0092 - accuracy: 1.0000 - val_loss: 10.2807 - val_accuracy: 0.0000e+00\n",
            "Epoch 388/500\n",
            "1/1 [==============================] - 0s 157ms/step - loss: 0.0853 - accuracy: 0.9412 - val_loss: 10.2335 - val_accuracy: 0.0000e+00\n",
            "Epoch 389/500\n",
            "1/1 [==============================] - 0s 186ms/step - loss: 0.0108 - accuracy: 1.0000 - val_loss: 10.2348 - val_accuracy: 0.0000e+00\n",
            "Epoch 390/500\n",
            "1/1 [==============================] - 0s 171ms/step - loss: 0.0535 - accuracy: 0.9412 - val_loss: 10.0816 - val_accuracy: 0.0000e+00\n",
            "Epoch 391/500\n",
            "1/1 [==============================] - 0s 180ms/step - loss: 0.1725 - accuracy: 0.9412 - val_loss: 10.0535 - val_accuracy: 0.0000e+00\n",
            "Epoch 392/500\n",
            "1/1 [==============================] - 0s 172ms/step - loss: 0.0492 - accuracy: 1.0000 - val_loss: 10.0313 - val_accuracy: 0.0000e+00\n",
            "Epoch 393/500\n",
            "1/1 [==============================] - 0s 172ms/step - loss: 3.9007e-04 - accuracy: 1.0000 - val_loss: 10.0264 - val_accuracy: 0.0000e+00\n",
            "Epoch 394/500\n",
            "1/1 [==============================] - 0s 173ms/step - loss: 0.0070 - accuracy: 1.0000 - val_loss: 10.0409 - val_accuracy: 0.0000e+00\n",
            "Epoch 395/500\n",
            "1/1 [==============================] - 0s 167ms/step - loss: 0.0906 - accuracy: 0.9412 - val_loss: 10.1100 - val_accuracy: 0.0000e+00\n",
            "Epoch 396/500\n",
            "1/1 [==============================] - 0s 160ms/step - loss: 0.0225 - accuracy: 1.0000 - val_loss: 10.1880 - val_accuracy: 0.0000e+00\n",
            "Epoch 397/500\n",
            "1/1 [==============================] - 0s 161ms/step - loss: 0.0100 - accuracy: 1.0000 - val_loss: 10.2990 - val_accuracy: 0.0000e+00\n",
            "Epoch 398/500\n",
            "1/1 [==============================] - 0s 181ms/step - loss: 0.0679 - accuracy: 0.9412 - val_loss: 10.4282 - val_accuracy: 0.0000e+00\n",
            "Epoch 399/500\n",
            "1/1 [==============================] - 0s 174ms/step - loss: 0.0744 - accuracy: 0.9412 - val_loss: 10.6825 - val_accuracy: 0.0000e+00\n",
            "Epoch 400/500\n",
            "1/1 [==============================] - 0s 176ms/step - loss: 0.0025 - accuracy: 1.0000 - val_loss: 10.9065 - val_accuracy: 0.0000e+00\n",
            "Epoch 401/500\n",
            "1/1 [==============================] - 0s 171ms/step - loss: 0.0627 - accuracy: 0.9412 - val_loss: 11.1379 - val_accuracy: 0.0000e+00\n",
            "Epoch 402/500\n",
            "1/1 [==============================] - 0s 170ms/step - loss: 0.1358 - accuracy: 0.9412 - val_loss: 11.1205 - val_accuracy: 0.0000e+00\n",
            "Epoch 403/500\n",
            "1/1 [==============================] - 0s 189ms/step - loss: 0.0243 - accuracy: 1.0000 - val_loss: 11.0892 - val_accuracy: 0.0000e+00\n",
            "Epoch 404/500\n",
            "1/1 [==============================] - 0s 164ms/step - loss: 0.0193 - accuracy: 1.0000 - val_loss: 11.0190 - val_accuracy: 0.0000e+00\n",
            "Epoch 405/500\n",
            "1/1 [==============================] - 0s 165ms/step - loss: 0.0204 - accuracy: 1.0000 - val_loss: 10.9523 - val_accuracy: 0.0000e+00\n",
            "Epoch 406/500\n",
            "1/1 [==============================] - 0s 183ms/step - loss: 0.0056 - accuracy: 1.0000 - val_loss: 10.8919 - val_accuracy: 0.0000e+00\n",
            "Epoch 407/500\n",
            "1/1 [==============================] - 0s 161ms/step - loss: 0.4073 - accuracy: 0.9412 - val_loss: 10.7617 - val_accuracy: 0.0000e+00\n",
            "Epoch 408/500\n",
            "1/1 [==============================] - 0s 171ms/step - loss: 0.0058 - accuracy: 1.0000 - val_loss: 10.6706 - val_accuracy: 0.0000e+00\n",
            "Epoch 409/500\n",
            "1/1 [==============================] - 0s 171ms/step - loss: 0.1251 - accuracy: 0.9412 - val_loss: 10.6326 - val_accuracy: 0.0000e+00\n",
            "Epoch 410/500\n",
            "1/1 [==============================] - 0s 163ms/step - loss: 0.0015 - accuracy: 1.0000 - val_loss: 10.6109 - val_accuracy: 0.0000e+00\n",
            "Epoch 411/500\n",
            "1/1 [==============================] - 0s 179ms/step - loss: 0.0077 - accuracy: 1.0000 - val_loss: 10.5611 - val_accuracy: 0.0000e+00\n",
            "Epoch 412/500\n",
            "1/1 [==============================] - 0s 179ms/step - loss: 0.0634 - accuracy: 1.0000 - val_loss: 10.2609 - val_accuracy: 0.0000e+00\n",
            "Epoch 413/500\n",
            "1/1 [==============================] - 0s 152ms/step - loss: 0.0381 - accuracy: 1.0000 - val_loss: 9.9737 - val_accuracy: 0.0000e+00\n",
            "Epoch 414/500\n",
            "1/1 [==============================] - 0s 250ms/step - loss: 0.0616 - accuracy: 0.9412 - val_loss: 9.7177 - val_accuracy: 0.0000e+00\n",
            "Epoch 415/500\n",
            "1/1 [==============================] - 0s 263ms/step - loss: 6.1058e-04 - accuracy: 1.0000 - val_loss: 9.5066 - val_accuracy: 0.0000e+00\n",
            "Epoch 416/500\n",
            "1/1 [==============================] - 0s 270ms/step - loss: 0.0084 - accuracy: 1.0000 - val_loss: 9.3337 - val_accuracy: 0.0000e+00\n",
            "Epoch 417/500\n",
            "1/1 [==============================] - 0s 264ms/step - loss: 0.0027 - accuracy: 1.0000 - val_loss: 9.1933 - val_accuracy: 0.0000e+00\n",
            "Epoch 418/500\n",
            "1/1 [==============================] - 0s 266ms/step - loss: 0.0062 - accuracy: 1.0000 - val_loss: 9.0890 - val_accuracy: 0.0000e+00\n",
            "Epoch 419/500\n",
            "1/1 [==============================] - 0s 264ms/step - loss: 0.1152 - accuracy: 0.9412 - val_loss: 9.1335 - val_accuracy: 0.0000e+00\n",
            "Epoch 420/500\n",
            "1/1 [==============================] - 0s 266ms/step - loss: 0.0215 - accuracy: 1.0000 - val_loss: 9.2072 - val_accuracy: 0.0000e+00\n",
            "Epoch 421/500\n",
            "1/1 [==============================] - 0s 259ms/step - loss: 0.1616 - accuracy: 0.9412 - val_loss: 9.4633 - val_accuracy: 0.0000e+00\n",
            "Epoch 422/500\n",
            "1/1 [==============================] - 0s 291ms/step - loss: 0.0202 - accuracy: 1.0000 - val_loss: 9.6818 - val_accuracy: 0.0000e+00\n",
            "Epoch 423/500\n",
            "1/1 [==============================] - 0s 257ms/step - loss: 0.1048 - accuracy: 0.9412 - val_loss: 9.9019 - val_accuracy: 0.0000e+00\n",
            "Epoch 424/500\n",
            "1/1 [==============================] - 0s 255ms/step - loss: 0.0595 - accuracy: 1.0000 - val_loss: 10.1798 - val_accuracy: 0.0000e+00\n",
            "Epoch 425/500\n",
            "1/1 [==============================] - 0s 246ms/step - loss: 0.1615 - accuracy: 0.9412 - val_loss: 10.5355 - val_accuracy: 0.0000e+00\n",
            "Epoch 426/500\n",
            "1/1 [==============================] - 0s 251ms/step - loss: 0.1047 - accuracy: 0.9412 - val_loss: 10.8746 - val_accuracy: 0.0000e+00\n",
            "Epoch 427/500\n",
            "1/1 [==============================] - 0s 247ms/step - loss: 0.0050 - accuracy: 1.0000 - val_loss: 11.1689 - val_accuracy: 0.0000e+00\n",
            "Epoch 428/500\n",
            "1/1 [==============================] - 0s 285ms/step - loss: 0.0067 - accuracy: 1.0000 - val_loss: 11.3838 - val_accuracy: 0.0000e+00\n",
            "Epoch 429/500\n",
            "1/1 [==============================] - 0s 255ms/step - loss: 0.0094 - accuracy: 1.0000 - val_loss: 11.5914 - val_accuracy: 0.0000e+00\n",
            "Epoch 430/500\n",
            "1/1 [==============================] - 0s 262ms/step - loss: 0.0182 - accuracy: 1.0000 - val_loss: 11.7817 - val_accuracy: 0.0000e+00\n",
            "Epoch 431/500\n",
            "1/1 [==============================] - 0s 272ms/step - loss: 0.2107 - accuracy: 0.9412 - val_loss: 11.8667 - val_accuracy: 0.0000e+00\n",
            "Epoch 432/500\n",
            "1/1 [==============================] - 0s 257ms/step - loss: 0.0489 - accuracy: 1.0000 - val_loss: 11.8975 - val_accuracy: 0.0000e+00\n",
            "Epoch 433/500\n",
            "1/1 [==============================] - 0s 200ms/step - loss: 0.0742 - accuracy: 0.9412 - val_loss: 11.9858 - val_accuracy: 0.0000e+00\n",
            "Epoch 434/500\n",
            "1/1 [==============================] - 0s 167ms/step - loss: 7.8614e-04 - accuracy: 1.0000 - val_loss: 12.0419 - val_accuracy: 0.0000e+00\n",
            "Epoch 435/500\n",
            "1/1 [==============================] - 0s 155ms/step - loss: 0.0019 - accuracy: 1.0000 - val_loss: 12.0669 - val_accuracy: 0.0000e+00\n",
            "Epoch 436/500\n",
            "1/1 [==============================] - 0s 166ms/step - loss: 0.0011 - accuracy: 1.0000 - val_loss: 12.0955 - val_accuracy: 0.0000e+00\n",
            "Epoch 437/500\n",
            "1/1 [==============================] - 0s 174ms/step - loss: 0.0020 - accuracy: 1.0000 - val_loss: 12.1060 - val_accuracy: 0.0000e+00\n",
            "Epoch 438/500\n",
            "1/1 [==============================] - 0s 187ms/step - loss: 0.0167 - accuracy: 1.0000 - val_loss: 12.1673 - val_accuracy: 0.0000e+00\n",
            "Epoch 439/500\n",
            "1/1 [==============================] - 0s 154ms/step - loss: 0.0477 - accuracy: 1.0000 - val_loss: 11.9167 - val_accuracy: 0.0000e+00\n",
            "Epoch 440/500\n",
            "1/1 [==============================] - 0s 159ms/step - loss: 0.1106 - accuracy: 0.9412 - val_loss: 11.7620 - val_accuracy: 0.0000e+00\n",
            "Epoch 441/500\n",
            "1/1 [==============================] - 0s 163ms/step - loss: 0.1857 - accuracy: 0.9412 - val_loss: 11.6494 - val_accuracy: 0.0000e+00\n",
            "Epoch 442/500\n",
            "1/1 [==============================] - 0s 169ms/step - loss: 0.3374 - accuracy: 0.9412 - val_loss: 11.5811 - val_accuracy: 0.0000e+00\n",
            "Epoch 443/500\n",
            "1/1 [==============================] - 0s 179ms/step - loss: 0.0675 - accuracy: 1.0000 - val_loss: 11.5960 - val_accuracy: 0.0000e+00\n",
            "Epoch 444/500\n",
            "1/1 [==============================] - 0s 171ms/step - loss: 0.1138 - accuracy: 0.9412 - val_loss: 11.4722 - val_accuracy: 0.0000e+00\n",
            "Epoch 445/500\n",
            "1/1 [==============================] - 0s 164ms/step - loss: 0.0383 - accuracy: 1.0000 - val_loss: 11.4379 - val_accuracy: 0.0000e+00\n",
            "Epoch 446/500\n",
            "1/1 [==============================] - 0s 162ms/step - loss: 0.0015 - accuracy: 1.0000 - val_loss: 11.4269 - val_accuracy: 0.0000e+00\n",
            "Epoch 447/500\n",
            "1/1 [==============================] - 0s 180ms/step - loss: 0.0538 - accuracy: 1.0000 - val_loss: 11.5061 - val_accuracy: 0.0000e+00\n",
            "Epoch 448/500\n",
            "1/1 [==============================] - 0s 166ms/step - loss: 0.0010 - accuracy: 1.0000 - val_loss: 11.6007 - val_accuracy: 0.0000e+00\n",
            "Epoch 449/500\n",
            "1/1 [==============================] - 0s 158ms/step - loss: 0.2696 - accuracy: 0.9412 - val_loss: 11.3277 - val_accuracy: 0.0000e+00\n",
            "Epoch 450/500\n",
            "1/1 [==============================] - 0s 303ms/step - loss: 0.0296 - accuracy: 1.0000 - val_loss: 11.1060 - val_accuracy: 0.0000e+00\n",
            "Epoch 451/500\n",
            "1/1 [==============================] - 0s 423ms/step - loss: 0.0031 - accuracy: 1.0000 - val_loss: 10.9178 - val_accuracy: 0.0000e+00\n",
            "Epoch 452/500\n",
            "1/1 [==============================] - 0s 174ms/step - loss: 3.5426e-04 - accuracy: 1.0000 - val_loss: 10.7635 - val_accuracy: 0.0000e+00\n",
            "Epoch 453/500\n",
            "1/1 [==============================] - 0s 224ms/step - loss: 0.0365 - accuracy: 1.0000 - val_loss: 10.5972 - val_accuracy: 0.0000e+00\n",
            "Epoch 454/500\n",
            "1/1 [==============================] - 0s 165ms/step - loss: 0.0096 - accuracy: 1.0000 - val_loss: 10.4488 - val_accuracy: 0.0000e+00\n",
            "Epoch 455/500\n",
            "1/1 [==============================] - 0s 181ms/step - loss: 0.1179 - accuracy: 0.9412 - val_loss: 10.1963 - val_accuracy: 0.0000e+00\n",
            "Epoch 456/500\n",
            "1/1 [==============================] - 0s 167ms/step - loss: 0.0023 - accuracy: 1.0000 - val_loss: 9.9711 - val_accuracy: 0.0000e+00\n",
            "Epoch 457/500\n",
            "1/1 [==============================] - 0s 159ms/step - loss: 0.0407 - accuracy: 1.0000 - val_loss: 9.7441 - val_accuracy: 0.0000e+00\n",
            "Epoch 458/500\n",
            "1/1 [==============================] - 0s 184ms/step - loss: 0.0080 - accuracy: 1.0000 - val_loss: 9.5715 - val_accuracy: 0.0000e+00\n",
            "Epoch 459/500\n",
            "1/1 [==============================] - 0s 168ms/step - loss: 0.0250 - accuracy: 1.0000 - val_loss: 9.3814 - val_accuracy: 0.0000e+00\n",
            "Epoch 460/500\n",
            "1/1 [==============================] - 0s 160ms/step - loss: 0.3826 - accuracy: 0.9412 - val_loss: 9.4461 - val_accuracy: 0.0000e+00\n",
            "Epoch 461/500\n",
            "1/1 [==============================] - 0s 155ms/step - loss: 0.0328 - accuracy: 1.0000 - val_loss: 9.9175 - val_accuracy: 0.0000e+00\n",
            "Epoch 462/500\n",
            "1/1 [==============================] - 0s 167ms/step - loss: 0.0242 - accuracy: 1.0000 - val_loss: 10.4027 - val_accuracy: 0.0000e+00\n",
            "Epoch 463/500\n",
            "1/1 [==============================] - 0s 164ms/step - loss: 0.0046 - accuracy: 1.0000 - val_loss: 10.8955 - val_accuracy: 0.0000e+00\n",
            "Epoch 464/500\n",
            "1/1 [==============================] - 0s 187ms/step - loss: 0.0707 - accuracy: 0.9412 - val_loss: 11.3871 - val_accuracy: 0.0000e+00\n",
            "Epoch 465/500\n",
            "1/1 [==============================] - 0s 204ms/step - loss: 0.0467 - accuracy: 1.0000 - val_loss: 11.7983 - val_accuracy: 0.0000e+00\n",
            "Epoch 466/500\n",
            "1/1 [==============================] - 0s 180ms/step - loss: 0.0049 - accuracy: 1.0000 - val_loss: 12.1908 - val_accuracy: 0.0000e+00\n",
            "Epoch 467/500\n",
            "1/1 [==============================] - 0s 166ms/step - loss: 0.0490 - accuracy: 1.0000 - val_loss: 12.4659 - val_accuracy: 0.0000e+00\n",
            "Epoch 468/500\n",
            "1/1 [==============================] - 0s 171ms/step - loss: 0.2205 - accuracy: 0.8824 - val_loss: 12.4552 - val_accuracy: 0.0000e+00\n",
            "Epoch 469/500\n",
            "1/1 [==============================] - 0s 211ms/step - loss: 0.0086 - accuracy: 1.0000 - val_loss: 12.6077 - val_accuracy: 0.0000e+00\n",
            "Epoch 470/500\n",
            "1/1 [==============================] - 0s 169ms/step - loss: 0.0190 - accuracy: 1.0000 - val_loss: 12.7306 - val_accuracy: 0.0000e+00\n",
            "Epoch 471/500\n",
            "1/1 [==============================] - 0s 170ms/step - loss: 0.0026 - accuracy: 1.0000 - val_loss: 12.8539 - val_accuracy: 0.0000e+00\n",
            "Epoch 472/500\n",
            "1/1 [==============================] - 0s 193ms/step - loss: 2.1009e-04 - accuracy: 1.0000 - val_loss: 12.9447 - val_accuracy: 0.0000e+00\n",
            "Epoch 473/500\n",
            "1/1 [==============================] - 0s 169ms/step - loss: 0.1726 - accuracy: 0.9412 - val_loss: 12.9446 - val_accuracy: 0.0000e+00\n",
            "Epoch 474/500\n",
            "1/1 [==============================] - 0s 173ms/step - loss: 0.0069 - accuracy: 1.0000 - val_loss: 12.9464 - val_accuracy: 0.0000e+00\n",
            "Epoch 475/500\n",
            "1/1 [==============================] - 0s 179ms/step - loss: 0.1190 - accuracy: 0.9412 - val_loss: 12.8932 - val_accuracy: 0.0000e+00\n",
            "Epoch 476/500\n",
            "1/1 [==============================] - 0s 168ms/step - loss: 0.0013 - accuracy: 1.0000 - val_loss: 12.8463 - val_accuracy: 0.0000e+00\n",
            "Epoch 477/500\n",
            "1/1 [==============================] - 0s 162ms/step - loss: 0.1506 - accuracy: 0.9412 - val_loss: 13.2332 - val_accuracy: 0.0000e+00\n",
            "Epoch 478/500\n",
            "1/1 [==============================] - 0s 170ms/step - loss: 0.0076 - accuracy: 1.0000 - val_loss: 13.5868 - val_accuracy: 0.0000e+00\n",
            "Epoch 479/500\n",
            "1/1 [==============================] - 0s 171ms/step - loss: 0.0143 - accuracy: 1.0000 - val_loss: 13.8629 - val_accuracy: 0.0000e+00\n",
            "Epoch 480/500\n",
            "1/1 [==============================] - 0s 162ms/step - loss: 0.3511 - accuracy: 0.9412 - val_loss: 13.9167 - val_accuracy: 0.0000e+00\n",
            "Epoch 481/500\n",
            "1/1 [==============================] - 0s 195ms/step - loss: 0.1046 - accuracy: 0.9412 - val_loss: 13.9170 - val_accuracy: 0.0000e+00\n",
            "Epoch 482/500\n",
            "1/1 [==============================] - 0s 174ms/step - loss: 0.0517 - accuracy: 1.0000 - val_loss: 13.8982 - val_accuracy: 0.0000e+00\n",
            "Epoch 483/500\n",
            "1/1 [==============================] - 0s 158ms/step - loss: 0.0180 - accuracy: 1.0000 - val_loss: 13.8329 - val_accuracy: 0.0000e+00\n",
            "Epoch 484/500\n",
            "1/1 [==============================] - 0s 167ms/step - loss: 6.5075e-04 - accuracy: 1.0000 - val_loss: 13.7119 - val_accuracy: 0.0000e+00\n",
            "Epoch 485/500\n",
            "1/1 [==============================] - 0s 169ms/step - loss: 0.2136 - accuracy: 0.8824 - val_loss: 13.1106 - val_accuracy: 0.0000e+00\n",
            "Epoch 486/500\n",
            "1/1 [==============================] - 0s 154ms/step - loss: 0.0419 - accuracy: 0.9412 - val_loss: 12.5389 - val_accuracy: 0.0000e+00\n",
            "Epoch 487/500\n",
            "1/1 [==============================] - 0s 235ms/step - loss: 0.1583 - accuracy: 0.9412 - val_loss: 12.0644 - val_accuracy: 0.0000e+00\n",
            "Epoch 488/500\n",
            "1/1 [==============================] - 0s 258ms/step - loss: 0.0081 - accuracy: 1.0000 - val_loss: 11.6702 - val_accuracy: 0.0000e+00\n",
            "Epoch 489/500\n",
            "1/1 [==============================] - 0s 301ms/step - loss: 0.1079 - accuracy: 0.9412 - val_loss: 11.5538 - val_accuracy: 0.0000e+00\n",
            "Epoch 490/500\n",
            "1/1 [==============================] - 0s 254ms/step - loss: 0.0037 - accuracy: 1.0000 - val_loss: 11.4636 - val_accuracy: 0.0000e+00\n",
            "Epoch 491/500\n",
            "1/1 [==============================] - 0s 251ms/step - loss: 0.0026 - accuracy: 1.0000 - val_loss: 11.3681 - val_accuracy: 0.0000e+00\n",
            "Epoch 492/500\n",
            "1/1 [==============================] - 0s 254ms/step - loss: 0.0048 - accuracy: 1.0000 - val_loss: 11.3120 - val_accuracy: 0.0000e+00\n",
            "Epoch 493/500\n",
            "1/1 [==============================] - 0s 246ms/step - loss: 0.0025 - accuracy: 1.0000 - val_loss: 11.2804 - val_accuracy: 0.0000e+00\n",
            "Epoch 494/500\n",
            "1/1 [==============================] - 0s 258ms/step - loss: 0.0018 - accuracy: 1.0000 - val_loss: 11.2751 - val_accuracy: 0.0000e+00\n",
            "Epoch 495/500\n",
            "1/1 [==============================] - 0s 378ms/step - loss: 0.0103 - accuracy: 1.0000 - val_loss: 11.3027 - val_accuracy: 0.0000e+00\n",
            "Epoch 496/500\n",
            "1/1 [==============================] - 1s 710ms/step - loss: 0.0070 - accuracy: 1.0000 - val_loss: 11.3452 - val_accuracy: 0.0000e+00\n",
            "Epoch 497/500\n",
            "1/1 [==============================] - 0s 486ms/step - loss: 0.0026 - accuracy: 1.0000 - val_loss: 11.3862 - val_accuracy: 0.0000e+00\n",
            "Epoch 498/500\n",
            "1/1 [==============================] - 0s 339ms/step - loss: 0.0049 - accuracy: 1.0000 - val_loss: 11.4283 - val_accuracy: 0.0000e+00\n",
            "Epoch 499/500\n",
            "1/1 [==============================] - 1s 800ms/step - loss: 0.0399 - accuracy: 1.0000 - val_loss: 11.5281 - val_accuracy: 0.0000e+00\n",
            "Epoch 500/500\n",
            "1/1 [==============================] - 0s 426ms/step - loss: 0.0039 - accuracy: 1.0000 - val_loss: 11.6328 - val_accuracy: 0.0000e+00\n"
          ]
        }
      ]
    },
    {
      "cell_type": "markdown",
      "source": [
        "The model is trained on the preprocessed dataset using the fit() method, and the trained model is saved as a .h5 file. "
      ],
      "metadata": {
        "id": "M92C-U25Ick7"
      }
    },
    {
      "cell_type": "code",
      "metadata": {
        "id": "1TqESIG3Vp3u"
      },
      "source": [
        "model.save('handwrite_model.h5')"
      ],
      "execution_count": 29,
      "outputs": []
    },
    {
      "cell_type": "code",
      "source": [
        "model.summary()"
      ],
      "metadata": {
        "id": "4M_cZALBsQMc",
        "colab": {
          "base_uri": "https://localhost:8080/"
        },
        "outputId": "0cf33ddc-61b8-4c06-acf3-47f5596c5843"
      },
      "execution_count": 30,
      "outputs": [
        {
          "output_type": "stream",
          "name": "stdout",
          "text": [
            "Model: \"model\"\n",
            "_________________________________________________________________\n",
            " Layer (type)                Output Shape              Param #   \n",
            "=================================================================\n",
            " input_1 (InputLayer)        [(None, 50, 20, 1)]       0         \n",
            "                                                                 \n",
            " conv2d (Conv2D)             (None, 50, 20, 32)        320       \n",
            "                                                                 \n",
            " batch_normalization (BatchN  (None, 50, 20, 32)       128       \n",
            " ormalization)                                                   \n",
            "                                                                 \n",
            " conv2d_1 (Conv2D)           (None, 50, 20, 32)        9248      \n",
            "                                                                 \n",
            " batch_normalization_1 (Batc  (None, 50, 20, 32)       128       \n",
            " hNormalization)                                                 \n",
            "                                                                 \n",
            " max_pooling2d (MaxPooling2D  (None, 25, 10, 32)       0         \n",
            " )                                                               \n",
            "                                                                 \n",
            " dropout (Dropout)           (None, 25, 10, 32)        0         \n",
            "                                                                 \n",
            " conv2d_2 (Conv2D)           (None, 25, 10, 64)        18496     \n",
            "                                                                 \n",
            " batch_normalization_2 (Batc  (None, 25, 10, 64)       256       \n",
            " hNormalization)                                                 \n",
            "                                                                 \n",
            " conv2d_3 (Conv2D)           (None, 25, 10, 64)        36928     \n",
            "                                                                 \n",
            " batch_normalization_3 (Batc  (None, 25, 10, 64)       256       \n",
            " hNormalization)                                                 \n",
            "                                                                 \n",
            " max_pooling2d_1 (MaxPooling  (None, 12, 5, 64)        0         \n",
            " 2D)                                                             \n",
            "                                                                 \n",
            " dropout_1 (Dropout)         (None, 12, 5, 64)         0         \n",
            "                                                                 \n",
            " global_max_pooling2d (Globa  (None, 64)               0         \n",
            " lMaxPooling2D)                                                  \n",
            "                                                                 \n",
            " flatten (Flatten)           (None, 64)                0         \n",
            "                                                                 \n",
            " dropout_2 (Dropout)         (None, 64)                0         \n",
            "                                                                 \n",
            " dense (Dense)               (None, 1024)              66560     \n",
            "                                                                 \n",
            " dropout_3 (Dropout)         (None, 1024)              0         \n",
            "                                                                 \n",
            " dense_1 (Dense)             (None, 22)                22550     \n",
            "                                                                 \n",
            "=================================================================\n",
            "Total params: 154,870\n",
            "Trainable params: 154,486\n",
            "Non-trainable params: 384\n",
            "_________________________________________________________________\n"
          ]
        }
      ]
    },
    {
      "cell_type": "code",
      "metadata": {
        "id": "CvobMwNPWpb-"
      },
      "source": [
        "img = '/content/drive/My Drive/handwritten_word_prediction/dataset/6.jpg'"
      ],
      "execution_count": 31,
      "outputs": []
    },
    {
      "cell_type": "markdown",
      "source": [
        "This code reads in an image file using the OpenCV imread function and converts it to grayscale using the cv2.IMREAD_GRAYSCALE flag. The grayscale image is then resized to (img_size_w, img_size_h) using the cv2.resize function.\n",
        "\n"
      ],
      "metadata": {
        "id": "x5Sq43NXkpii"
      }
    },
    {
      "cell_type": "code",
      "metadata": {
        "id": "9G40domPW0hF",
        "colab": {
          "base_uri": "https://localhost:8080/"
        },
        "outputId": "6bf3479e-d38d-41d8-832f-26fb89ccc115"
      },
      "source": [
        "img_array = cv2.imread(img, cv2.IMREAD_GRAYSCALE)\n",
        "new_array = cv2.resize(img_array, (img_size_w, img_size_h))\n",
        "array = new_array.reshape(-1, img_size_w, img_size_h, 1)\n",
        "pred = model.predict(array)\n",
        "y = np.argmax(pred)"
      ],
      "execution_count": 32,
      "outputs": [
        {
          "output_type": "stream",
          "name": "stdout",
          "text": [
            "1/1 [==============================] - 0s 187ms/step\n"
          ]
        }
      ]
    },
    {
      "cell_type": "code",
      "metadata": {
        "id": "RdhjnPrsW7GQ",
        "colab": {
          "base_uri": "https://localhost:8080/",
          "height": 53
        },
        "outputId": "9d8b8381-3d3b-4f2b-d8ca-7f2dc664a323"
      },
      "source": [
        "print(y)\n",
        "label_encoder.classes_[y]"
      ],
      "execution_count": 33,
      "outputs": [
        {
          "output_type": "stream",
          "name": "stdout",
          "text": [
            "11\n"
          ]
        },
        {
          "output_type": "execute_result",
          "data": {
            "text/plain": [
              "'JORIS'"
            ],
            "application/vnd.google.colaboratory.intrinsic+json": {
              "type": "string"
            }
          },
          "metadata": {},
          "execution_count": 33
        }
      ]
    },
    {
      "cell_type": "code",
      "source": [
        "img = '/content/drive/My Drive/handwritten_word_prediction/dataset/10.jpg'"
      ],
      "metadata": {
        "id": "Soag3T8GNh-N"
      },
      "execution_count": 34,
      "outputs": []
    },
    {
      "cell_type": "code",
      "source": [
        "img_array = cv2.imread(img, cv2.IMREAD_GRAYSCALE)\n",
        "new_array = cv2.resize(img_array, (img_size_w, img_size_h))\n",
        "array = new_array.reshape(-1, img_size_w, img_size_h, 1)\n",
        "pred = model.predict(array)\n",
        "y = np.argmax(pred)"
      ],
      "metadata": {
        "id": "1iVggs3ONk4p",
        "colab": {
          "base_uri": "https://localhost:8080/"
        },
        "outputId": "c159097e-16d2-4e5e-d2eb-bf7741fce9d1"
      },
      "execution_count": 35,
      "outputs": [
        {
          "output_type": "stream",
          "name": "stdout",
          "text": [
            "1/1 [==============================] - 0s 26ms/step\n"
          ]
        }
      ]
    },
    {
      "cell_type": "code",
      "source": [
        "print(y)\n",
        "label_encoder.classes_[y]"
      ],
      "metadata": {
        "id": "fkdUXqwnNnPx",
        "colab": {
          "base_uri": "https://localhost:8080/",
          "height": 53
        },
        "outputId": "41524a5f-6168-4f41-c1a8-e29608b55ea8"
      },
      "execution_count": 36,
      "outputs": [
        {
          "output_type": "stream",
          "name": "stdout",
          "text": [
            "12\n"
          ]
        },
        {
          "output_type": "execute_result",
          "data": {
            "text/plain": [
              "'KEVIN'"
            ],
            "application/vnd.google.colaboratory.intrinsic+json": {
              "type": "string"
            }
          },
          "metadata": {},
          "execution_count": 36
        }
      ]
    },
    {
      "cell_type": "markdown",
      "source": [
        "The first line of code prints the predicted class label index, which was obtained using the argmax function on the output of the predict method.\n",
        "\n",
        "The second line of code uses the classes_ attribute of the LabelEncoder object to map the predicted class label index to the corresponding class label string.\n",
        "\n",
        "Assuming that label_encoder is a LabelEncoder object that was used to encode the output classes during training, this code will print the predicted class label string for the input image."
      ],
      "metadata": {
        "id": "Ossry_7tI9Fg"
      }
    },
    {
      "cell_type": "code",
      "metadata": {
        "id": "1b_WPvG3XOl4"
      },
      "source": [
        "img = '/content/drive/My Drive/handwritten_word_prediction/dataset/15.jpg'"
      ],
      "execution_count": 37,
      "outputs": []
    },
    {
      "cell_type": "code",
      "source": [
        "img_array = cv2.imread(img, cv2.IMREAD_GRAYSCALE)\n",
        "new_array = cv2.resize(img_array, (img_size_w, img_size_h))\n",
        "array = new_array.reshape(-1, img_size_w, img_size_h, 1)\n",
        "pred = model.predict(array)\n",
        "y = np.argmax(pred)"
      ],
      "metadata": {
        "id": "4XimccJvONcG",
        "colab": {
          "base_uri": "https://localhost:8080/"
        },
        "outputId": "927a51a0-3f59-434e-eb1d-a6214d127246"
      },
      "execution_count": 38,
      "outputs": [
        {
          "output_type": "stream",
          "name": "stdout",
          "text": [
            "1/1 [==============================] - 0s 28ms/step\n"
          ]
        }
      ]
    },
    {
      "cell_type": "code",
      "source": [
        "print(y)\n",
        "label_encoder.classes_[y]"
      ],
      "metadata": {
        "id": "5c1_UJw8OQRU",
        "colab": {
          "base_uri": "https://localhost:8080/",
          "height": 53
        },
        "outputId": "81ddb90b-3110-4095-9c02-424da535fc46"
      },
      "execution_count": 39,
      "outputs": [
        {
          "output_type": "stream",
          "name": "stdout",
          "text": [
            "6\n"
          ]
        },
        {
          "output_type": "execute_result",
          "data": {
            "text/plain": [
              "'DE SA'"
            ],
            "application/vnd.google.colaboratory.intrinsic+json": {
              "type": "string"
            }
          },
          "metadata": {},
          "execution_count": 39
        }
      ]
    },
    {
      "cell_type": "code",
      "source": [
        "img = '/content/drive/My Drive/handwritten_word_prediction/dataset/17.jpg'"
      ],
      "metadata": {
        "id": "2zufXhSrOSHd"
      },
      "execution_count": 40,
      "outputs": []
    },
    {
      "cell_type": "code",
      "source": [
        "img_array = cv2.imread(img, cv2.IMREAD_GRAYSCALE)\n",
        "new_array = cv2.resize(img_array, (img_size_w, img_size_h))\n",
        "array = new_array.reshape(-1, img_size_w, img_size_h, 1)\n",
        "pred = model.predict(array)\n",
        "y = np.argmax(pred)"
      ],
      "metadata": {
        "id": "xM2jvkuLPPR9",
        "colab": {
          "base_uri": "https://localhost:8080/"
        },
        "outputId": "13da484f-fb69-4b66-f90e-930767b3ef21"
      },
      "execution_count": 41,
      "outputs": [
        {
          "output_type": "stream",
          "name": "stdout",
          "text": [
            "1/1 [==============================] - 0s 25ms/step\n"
          ]
        }
      ]
    },
    {
      "cell_type": "code",
      "source": [
        "print(y)\n",
        "label_encoder.classes_[y]"
      ],
      "metadata": {
        "id": "CToekpw2PRNG",
        "colab": {
          "base_uri": "https://localhost:8080/",
          "height": 53
        },
        "outputId": "b1191108-8e8f-4b7d-c1ec-db4a23fa30b6"
      },
      "execution_count": 42,
      "outputs": [
        {
          "output_type": "stream",
          "name": "stdout",
          "text": [
            "20\n"
          ]
        },
        {
          "output_type": "execute_result",
          "data": {
            "text/plain": [
              "'TASKIN'"
            ],
            "application/vnd.google.colaboratory.intrinsic+json": {
              "type": "string"
            }
          },
          "metadata": {},
          "execution_count": 42
        }
      ]
    },
    {
      "cell_type": "code",
      "source": [],
      "metadata": {
        "id": "HTznZB0pPSza"
      },
      "execution_count": 42,
      "outputs": []
    }
  ]
}