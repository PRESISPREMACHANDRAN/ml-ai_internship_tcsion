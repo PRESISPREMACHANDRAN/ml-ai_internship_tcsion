{
  "nbformat": 4,
  "nbformat_minor": 0,
  "metadata": {
    "colab": {
      "provenance": []
    },
    "kernelspec": {
      "name": "python3",
      "display_name": "Python 3"
    },
    "language_info": {
      "name": "python"
    }
  },
  "cells": [
    {
      "cell_type": "code",
      "source": [
        "import cv2"
      ],
      "metadata": {
        "id": "0qwLbabpFCgG"
      },
      "execution_count": null,
      "outputs": []
    },
    {
      "cell_type": "code",
      "source": [
        "# Load the image\n",
        "img = cv2.imread('image_digit.jfif')"
      ],
      "metadata": {
        "id": "lkeEEyhzFC6b"
      },
      "execution_count": null,
      "outputs": []
    },
    {
      "cell_type": "code",
      "source": [
        "# Convert to grayscale\n",
        "gray = cv2.cvtColor(img, cv2.COLOR_BGR2GRAY)"
      ],
      "metadata": {
        "id": "3P7EkqrnFMFS"
      },
      "execution_count": null,
      "outputs": []
    },
    {
      "cell_type": "code",
      "source": [
        "# Apply adaptive thresholding\n",
        "thresh = cv2.adaptiveThreshold(gray, 255, cv2.ADAPTIVE_THRESH_MEAN_C, cv2.THRESH_BINARY_INV, 11, 2)"
      ],
      "metadata": {
        "id": "prPo-gtTPOFR"
      },
      "execution_count": null,
      "outputs": []
    },
    {
      "cell_type": "code",
      "source": [
        "# Find contours in the image\n",
        "contours, hierarchy = cv2.findContours(thresh, cv2.RETR_EXTERNAL, cv2.CHAIN_APPROX_SIMPLE)"
      ],
      "metadata": {
        "id": "5wZrpC58PPtH"
      },
      "execution_count": null,
      "outputs": []
    },
    {
      "cell_type": "code",
      "source": [
        "# Loop through each contour\n",
        "for contour in contours:\n",
        "    # Get the bounding rectangle\n",
        "    x, y, w, h = cv2.boundingRect(contour)\n",
        "    \n",
        "    # Crop the region of interest\n",
        "    roi = thresh[y:y+h, x:x+w]\n",
        "    \n",
        "    # Resize the image to 28x28 pixels\n",
        "    resized = cv2.resize(roi, (28, 28), interpolation=cv2.INTER_AREA)\n",
        "    \n",
        "    # Save the image as a file\n",
        "    cv2.imwrite('digit_{}.png'.format(x), resized)"
      ],
      "metadata": {
        "id": "i3niQjZoPi_Y"
      },
      "execution_count": null,
      "outputs": []
    },
    {
      "cell_type": "markdown",
      "source": [
        "it successfully detected handwritten digit  from the given image."
      ],
      "metadata": {
        "id": "t2stKHgSSON4"
      }
    }
  ]
}